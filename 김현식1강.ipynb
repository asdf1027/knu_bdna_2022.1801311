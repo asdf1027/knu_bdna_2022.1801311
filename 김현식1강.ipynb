{
  "nbformat": 4,
  "nbformat_minor": 0,
  "metadata": {
    "colab": {
      "name": "김현식1강.ipynb",
      "provenance": [],
      "collapsed_sections": [],
      "authorship_tag": "ABX9TyOgGUIGT6ITepH2qDgwpPMs",
      "include_colab_link": true
    },
    "kernelspec": {
      "name": "python3",
      "display_name": "Python 3"
    },
    "language_info": {
      "name": "python"
    }
  },
  "cells": [
    {
      "cell_type": "markdown",
      "metadata": {
        "id": "view-in-github",
        "colab_type": "text"
      },
      "source": [
        "<a href=\"https://colab.research.google.com/github/asdf1027/knu_bdna_2022.1801311/blob/main/%EA%B9%80%ED%98%84%EC%8B%9D1%EA%B0%95.ipynb\" target=\"_parent\"><img src=\"https://colab.research.google.com/assets/colab-badge.svg\" alt=\"Open In Colab\"/></a>"
      ]
    },
    {
      "cell_type": "code",
      "source": [
        "#2주차 강의\n",
        "def greet():\n",
        "  print(\"hello world\")"
      ],
      "metadata": {
        "id": "z5sNZs9SCdHJ"
      },
      "execution_count": null,
      "outputs": []
    },
    {
      "cell_type": "code",
      "source": [
        "greet()"
      ],
      "metadata": {
        "colab": {
          "base_uri": "https://localhost:8080/"
        },
        "id": "FUyOxWQIC-cQ",
        "outputId": "92bb4f7f-e607-4e07-f69e-bb5093926486"
      },
      "execution_count": null,
      "outputs": [
        {
          "output_type": "stream",
          "name": "stdout",
          "text": [
            "hello world\n"
          ]
        }
      ]
    },
    {
      "cell_type": "code",
      "source": [
        "def greet2(name):\n",
        "  print('반갑습니다',name)\n",
        "  print(name,'님은 파이썬의 세계로 오셨습니다')"
      ],
      "metadata": {
        "id": "V2qMcS27DzAI"
      },
      "execution_count": null,
      "outputs": []
    },
    {
      "cell_type": "code",
      "source": [
        "greet2('현식')"
      ],
      "metadata": {
        "colab": {
          "base_uri": "https://localhost:8080/"
        },
        "id": "6aqGFx5_EMxg",
        "outputId": "25079053-7238-4023-ecb4-6068892c997e"
      },
      "execution_count": null,
      "outputs": [
        {
          "output_type": "stream",
          "name": "stdout",
          "text": [
            "반갑습니다 현식\n",
            "현식 님은 파이썬의 세계로 오셨습니다\n"
          ]
        }
      ]
    },
    {
      "cell_type": "code",
      "source": [
        "def adder(num1,num2):\n",
        "  sum=num1+num2\n",
        "  print('덧셈 결과',num1+num2)"
      ],
      "metadata": {
        "id": "DA0LwKN1EanX"
      },
      "execution_count": null,
      "outputs": []
    },
    {
      "cell_type": "code",
      "source": [
        "adder(7,5)"
      ],
      "metadata": {
        "colab": {
          "base_uri": "https://localhost:8080/"
        },
        "id": "XAMfGCOxE1k_",
        "outputId": "35e511bd-90ad-45f2-ddb1-e77d4d9748f4"
      },
      "execution_count": null,
      "outputs": [
        {
          "output_type": "stream",
          "name": "stdout",
          "text": [
            "덧셈 결과 12\n"
          ]
        }
      ]
    },
    {
      "cell_type": "code",
      "source": [
        "def adder(num1,num2):\n",
        "  sum=num1+num2\n",
        "  return sum"
      ],
      "metadata": {
        "id": "WQfsqKISE5VP"
      },
      "execution_count": null,
      "outputs": []
    },
    {
      "cell_type": "code",
      "source": [
        "sum=adder(9,4)\n",
        "#result가 아닌 sum을 넣어야 값이 나옴"
      ],
      "metadata": {
        "id": "9_OPTNiVGR02"
      },
      "execution_count": null,
      "outputs": []
    },
    {
      "cell_type": "code",
      "source": [
        "print(sum)"
      ],
      "metadata": {
        "colab": {
          "base_uri": "https://localhost:8080/"
        },
        "id": "QkrTV8EDGdUW",
        "outputId": "685e2b12-6229-40fd-e1e5-0f6f34ee8050"
      },
      "execution_count": null,
      "outputs": [
        {
          "output_type": "stream",
          "name": "stdout",
          "text": [
            "13\n"
          ]
        }
      ]
    },
    {
      "cell_type": "code",
      "source": [
        "def adder(num1,num2):\n",
        "  sum=num1+num2\n",
        "  return sum"
      ],
      "metadata": {
        "id": "AUcQF-WzF1Gf"
      },
      "execution_count": null,
      "outputs": []
    },
    {
      "cell_type": "code",
      "source": [
        "def main():\n",
        "  print(adder(7,2))"
      ],
      "metadata": {
        "id": "dQWugLBGGCI3"
      },
      "execution_count": null,
      "outputs": []
    },
    {
      "cell_type": "code",
      "source": [
        "main()"
      ],
      "metadata": {
        "colab": {
          "base_uri": "https://localhost:8080/"
        },
        "id": "DnHxcqDqGI-_",
        "outputId": "b3be0e36-5b05-429a-ba8c-7293c6702394"
      },
      "execution_count": null,
      "outputs": [
        {
          "output_type": "stream",
          "name": "stdout",
          "text": [
            "9\n"
          ]
        }
      ]
    },
    {
      "cell_type": "code",
      "source": [
        "max(4,5,9)\n",
        "#최댓값"
      ],
      "metadata": {
        "colab": {
          "base_uri": "https://localhost:8080/"
        },
        "id": "Bwo5YjpAGJ_v",
        "outputId": "b89d5112-b680-456b-b9f5-177084a04ff4"
      },
      "execution_count": null,
      "outputs": [
        {
          "output_type": "execute_result",
          "data": {
            "text/plain": [
              "9"
            ]
          },
          "metadata": {},
          "execution_count": 79
        }
      ]
    },
    {
      "cell_type": "code",
      "source": [
        "min(5,4,8)\n",
        "#최솟값"
      ],
      "metadata": {
        "colab": {
          "base_uri": "https://localhost:8080/"
        },
        "id": "8c5YCO75HnUk",
        "outputId": "f5b78b80-8d70-4022-8f12-57dd755ea9b1"
      },
      "execution_count": null,
      "outputs": [
        {
          "output_type": "execute_result",
          "data": {
            "text/plain": [
              "4"
            ]
          },
          "metadata": {},
          "execution_count": 78
        }
      ]
    },
    {
      "cell_type": "code",
      "source": [
        "round(7.125)\n",
        "#가까운 정수"
      ],
      "metadata": {
        "colab": {
          "base_uri": "https://localhost:8080/"
        },
        "id": "k32yYWbdHsfu",
        "outputId": "c6630304-d171-4326-e08f-34cd6824526e"
      },
      "execution_count": null,
      "outputs": [
        {
          "output_type": "execute_result",
          "data": {
            "text/plain": [
              "7"
            ]
          },
          "metadata": {},
          "execution_count": 76
        }
      ]
    },
    {
      "cell_type": "code",
      "source": [
        "abs(-15)\n",
        "#절댓값"
      ],
      "metadata": {
        "colab": {
          "base_uri": "https://localhost:8080/"
        },
        "id": "JGemAjkeHvi_",
        "outputId": "06258b0a-9bdc-4f58-87f5-096704839685"
      },
      "execution_count": null,
      "outputs": [
        {
          "output_type": "execute_result",
          "data": {
            "text/plain": [
              "15"
            ]
          },
          "metadata": {},
          "execution_count": 75
        }
      ]
    },
    {
      "cell_type": "code",
      "source": [
        "pow(2,5)\n",
        "#2의 5승"
      ],
      "metadata": {
        "colab": {
          "base_uri": "https://localhost:8080/"
        },
        "id": "IkItZHI8H0tu",
        "outputId": "d9ae5715-603a-4755-87d9-20f85cf60a2f"
      },
      "execution_count": null,
      "outputs": [
        {
          "output_type": "execute_result",
          "data": {
            "text/plain": [
              "32"
            ]
          },
          "metadata": {},
          "execution_count": 74
        }
      ]
    },
    {
      "cell_type": "code",
      "source": [
        "10%4\n",
        "#10을 4로 나눈 후 나머지 값"
      ],
      "metadata": {
        "colab": {
          "base_uri": "https://localhost:8080/"
        },
        "id": "twJWf1dkIr9Y",
        "outputId": "c8aef710-79f0-4ec9-ad12-1d81f925d960"
      },
      "execution_count": null,
      "outputs": [
        {
          "output_type": "execute_result",
          "data": {
            "text/plain": [
              "2"
            ]
          },
          "metadata": {},
          "execution_count": 95
        }
      ]
    },
    {
      "cell_type": "code",
      "source": [
        "result=eval(input(\"뭐든 넣어요:\"))"
      ],
      "metadata": {
        "colab": {
          "base_uri": "https://localhost:8080/"
        },
        "id": "GQHdUQVrJVDW",
        "outputId": "871212d6-ae89-4105-9592-e7023f74800b"
      },
      "execution_count": null,
      "outputs": [
        {
          "name": "stdout",
          "output_type": "stream",
          "text": [
            "뭐든 넣어요:2*4-5+11\n"
          ]
        }
      ]
    },
    {
      "cell_type": "code",
      "source": [
        "result"
      ],
      "metadata": {
        "colab": {
          "base_uri": "https://localhost:8080/"
        },
        "id": "T08-gyCNJ2ub",
        "outputId": "c2f0789c-b307-4575-a314-a2a5abb22b8f"
      },
      "execution_count": null,
      "outputs": [
        {
          "output_type": "execute_result",
          "data": {
            "text/plain": [
              "14"
            ]
          },
          "metadata": {},
          "execution_count": 97
        }
      ]
    },
    {
      "cell_type": "code",
      "source": [
        "def ret():\n",
        "  return 12"
      ],
      "metadata": {
        "id": "rmJ5-eBOJ_Qe"
      },
      "execution_count": null,
      "outputs": []
    },
    {
      "cell_type": "code",
      "source": [
        "result=eval(input(\"뭐든 넣어요:\"))"
      ],
      "metadata": {
        "colab": {
          "base_uri": "https://localhost:8080/"
        },
        "id": "JJuVzMqtTegz",
        "outputId": "a5983d81-a2a2-449a-dccf-9b968d08063b"
      },
      "execution_count": null,
      "outputs": [
        {
          "name": "stdout",
          "output_type": "stream",
          "text": [
            "뭐든 넣어요:ret()\n"
          ]
        }
      ]
    },
    {
      "cell_type": "code",
      "source": [
        "print(result)"
      ],
      "metadata": {
        "colab": {
          "base_uri": "https://localhost:8080/"
        },
        "id": "Kb-Ru5jOTpA6",
        "outputId": "a34cbbd8-037c-42ed-b684-c2c56265dc21"
      },
      "execution_count": null,
      "outputs": [
        {
          "output_type": "stream",
          "name": "stdout",
          "text": [
            "12\n"
          ]
        }
      ]
    },
    {
      "cell_type": "code",
      "source": [
        "#3주차 강의\n",
        "def greet_three_times():\n",
        "  print('HI')\n",
        "  print('Hello')\n",
        "  print('안녕')"
      ],
      "metadata": {
        "id": "xednEznmT0JC"
      },
      "execution_count": null,
      "outputs": []
    },
    {
      "cell_type": "code",
      "source": [
        "greet_three_times()"
      ],
      "metadata": {
        "colab": {
          "base_uri": "https://localhost:8080/"
        },
        "id": "ZqaZxskVV2-m",
        "outputId": "a60e1c75-ba50-48e1-a3e4-a3ed912a948c"
      },
      "execution_count": null,
      "outputs": [
        {
          "output_type": "stream",
          "name": "stdout",
          "text": [
            "HI\n",
            "Hello\n",
            "안녕\n"
          ]
        }
      ]
    },
    {
      "cell_type": "code",
      "source": [
        "def greet_10(num):\n",
        "  if (num>2):\n",
        "    print('hi')\n",
        "    num=num-1\n",
        "    greet_10(num)\n",
        "# greet_10(num)의 num값에 비해 if(num>x)의 x값이 같거나 작게 되면 실행 될 내용이 없어서\n",
        "# 아무것도 뜨지 않음"
      ],
      "metadata": {
        "id": "xgYMOSm_WIX5"
      },
      "execution_count": null,
      "outputs": []
    },
    {
      "cell_type": "code",
      "source": [
        "greet_10(4)\n",
        "# num값이 4이고 x값이 2이므로 hi가 2개 출력된 것"
      ],
      "metadata": {
        "colab": {
          "base_uri": "https://localhost:8080/"
        },
        "id": "jSDG9D_8Ww1y",
        "outputId": "87f27e21-cc35-44ea-ea17-7a82467f80e9"
      },
      "execution_count": null,
      "outputs": [
        {
          "output_type": "stream",
          "name": "stdout",
          "text": [
            "hi\n",
            "hi\n"
          ]
        }
      ]
    },
    {
      "cell_type": "code",
      "source": [
        "sum=0\n",
        "for i in range(1,11):\n",
        "  sum=sum+i\n",
        "  print(sum)\n",
        "# for 문\n",
        "# range(1,11)의 의미는 1~11전까지의 모든 수"
      ],
      "metadata": {
        "colab": {
          "base_uri": "https://localhost:8080/"
        },
        "id": "ppfm_BL1W1uR",
        "outputId": "782ed619-db6e-4447-faa2-164099372c5e"
      },
      "execution_count": null,
      "outputs": [
        {
          "output_type": "stream",
          "name": "stdout",
          "text": [
            "1\n",
            "3\n",
            "6\n",
            "10\n",
            "15\n",
            "21\n",
            "28\n",
            "36\n",
            "45\n",
            "55\n"
          ]
        }
      ]
    },
    {
      "cell_type": "code",
      "source": [
        "import random\n",
        "\n",
        "NUMBER_OF_TRIALS=5000000  #50만은 상수\n",
        "numberofHits=0\n",
        "\n",
        "for i in range(NUMBER_OF_TRIALS):\n",
        "  x=random.random()*2-1\n",
        "  y=random.random()*2-1\n",
        "\n",
        "  if x*x+y*y<=1:\n",
        "    numberofHits+=1"
      ],
      "metadata": {
        "id": "p2d6uRLpj25R"
      },
      "execution_count": null,
      "outputs": []
    },
    {
      "cell_type": "code",
      "source": [
        "pi=4*numberofHits/NUMBER_OF_TRIALS\n",
        "print(\"PI는\",pi,\"입니다\")\n",
        "# Monte Carlo 시뮬레이션(pi값 구하기) - for 문\n",
        "# 3.140708로 딱 나오지 않는 이유? - random을 써서?"
      ],
      "metadata": {
        "colab": {
          "base_uri": "https://localhost:8080/"
        },
        "id": "n5dBGJBfmiau",
        "outputId": "cb7af541-a54a-47c1-fef2-3ba7b4c0c3a1"
      },
      "execution_count": null,
      "outputs": [
        {
          "output_type": "stream",
          "name": "stdout",
          "text": [
            "PI는 3.1407408 입니다\n"
          ]
        }
      ]
    },
    {
      "cell_type": "code",
      "source": [
        "count=0\n",
        "while count < 3:\n",
        "  print(\"프로그래밍은 재밌습니다\")\n",
        "  count=count+1\n",
        "# while 문\n",
        "# count의 값이 while count의 값보다 작거나 같은 경우 실행되지 않아 값이 뜨지 않음"
      ],
      "metadata": {
        "colab": {
          "base_uri": "https://localhost:8080/"
        },
        "id": "GXMP1sVKnIaX",
        "outputId": "6bb4c779-61a6-48d8-ff25-363fd2ef37c4"
      },
      "execution_count": null,
      "outputs": [
        {
          "output_type": "stream",
          "name": "stdout",
          "text": [
            "프로그래밍은 재밌습니다\n",
            "프로그래밍은 재밌습니다\n",
            "프로그래밍은 재밌습니다\n"
          ]
        }
      ]
    },
    {
      "cell_type": "code",
      "source": [
        "import random\n",
        "\n",
        "NUMBER_OF_TRIALS=5000000 #50만은 상수\n",
        "numberOfHits=0\n",
        "i=0\n",
        "\n",
        "while(i<NUMBER_OF_TRIALS):\n",
        "  x=random.random()*2-1\n",
        "  y=random.random()*2-1\n",
        "\n",
        "  if x*x+y*y<=1:\n",
        "    numberOfHits+=1\n",
        "  i=i+1"
      ],
      "metadata": {
        "id": "4HfrYGd2ofr-"
      },
      "execution_count": null,
      "outputs": []
    },
    {
      "cell_type": "code",
      "source": [
        "pi=4*numberOfHits/NUMBER_OF_TRIALS\n",
        "print(\"PI는\",pi,\"입니다\")\n",
        "# Monte Carlo 시뮬레이션(pi값 구하기) - while 문\n",
        "# 3.140708로 딱 나오지 않는 이유? - random을 써서?"
      ],
      "metadata": {
        "colab": {
          "base_uri": "https://localhost:8080/"
        },
        "id": "bk0FES0ppjb6",
        "outputId": "72d66695-57a9-4aaf-ec22-8d06279866b0"
      },
      "execution_count": null,
      "outputs": [
        {
          "output_type": "stream",
          "name": "stdout",
          "text": [
            "PI는 3.141204 입니다\n"
          ]
        }
      ]
    },
    {
      "cell_type": "code",
      "source": [
        "x=3\n",
        "y=2\n",
        "bool(x>y)\n",
        "# bool 연산자 사용1"
      ],
      "metadata": {
        "colab": {
          "base_uri": "https://localhost:8080/"
        },
        "id": "LSgcoteVuudR",
        "outputId": "8ad202e5-66d6-4d31-fbfa-43e3110d38ce"
      },
      "execution_count": null,
      "outputs": [
        {
          "output_type": "execute_result",
          "data": {
            "text/plain": [
              "True"
            ]
          },
          "metadata": {},
          "execution_count": 44
        }
      ]
    },
    {
      "cell_type": "code",
      "source": [
        "x=5\n",
        "y=7\n",
        "bool(x!=y)\n",
        "# bool 연산자 사용2"
      ],
      "metadata": {
        "colab": {
          "base_uri": "https://localhost:8080/"
        },
        "id": "HPzqQFwR4Axs",
        "outputId": "b515f39f-3fd6-4218-fa10-213033c6da68"
      },
      "execution_count": null,
      "outputs": [
        {
          "output_type": "execute_result",
          "data": {
            "text/plain": [
              "True"
            ]
          },
          "metadata": {},
          "execution_count": 46
        }
      ]
    },
    {
      "cell_type": "code",
      "source": [
        "x=4\n",
        "y=5\n",
        "bool(x>=y)\n",
        "# bool 연산자 사용3"
      ],
      "metadata": {
        "colab": {
          "base_uri": "https://localhost:8080/"
        },
        "id": "zJuseYln4NEB",
        "outputId": "ec2db128-0f61-4c70-872a-e465f52704d3"
      },
      "execution_count": null,
      "outputs": [
        {
          "output_type": "execute_result",
          "data": {
            "text/plain": [
              "False"
            ]
          },
          "metadata": {},
          "execution_count": 51
        }
      ]
    },
    {
      "cell_type": "code",
      "source": [
        "x=2\n",
        "y=0\n",
        "bool(x<=y)\n",
        "# bool 연산자 사용4"
      ],
      "metadata": {
        "colab": {
          "base_uri": "https://localhost:8080/"
        },
        "id": "sKp0Hj1W4WeZ",
        "outputId": "2587341f-2687-4b9a-cf66-261b50bee4dd"
      },
      "execution_count": null,
      "outputs": [
        {
          "output_type": "execute_result",
          "data": {
            "text/plain": [
              "False"
            ]
          },
          "metadata": {},
          "execution_count": 53
        }
      ]
    },
    {
      "cell_type": "code",
      "source": [
        "money=3000\n",
        "card=True\n",
        "\n",
        "if money>=3500 or card:\n",
        "  print(\"택시 타고 가라\")\n",
        "\n",
        "else:\n",
        "  print(\"걸어가라\")\n",
        "#if문, else문 사용1"
      ],
      "metadata": {
        "colab": {
          "base_uri": "https://localhost:8080/"
        },
        "id": "EA_yela64nGr",
        "outputId": "c5840336-0ff4-4ab0-b8c1-9cd7205bfa04"
      },
      "execution_count": null,
      "outputs": [
        {
          "output_type": "stream",
          "name": "stdout",
          "text": [
            "택시 타고 가라\n"
          ]
        }
      ]
    },
    {
      "cell_type": "code",
      "source": [
        "1 in [1,5,7]\n",
        "# 1이 [1,5,7]에 포함된다-True\n",
        "# in 사용"
      ],
      "metadata": {
        "colab": {
          "base_uri": "https://localhost:8080/"
        },
        "id": "OXSJuZSO5Rbx",
        "outputId": "9c73398b-9d33-42a3-b6d5-84c779be8ad3"
      },
      "execution_count": null,
      "outputs": [
        {
          "output_type": "execute_result",
          "data": {
            "text/plain": [
              "True"
            ]
          },
          "metadata": {},
          "execution_count": 55
        }
      ]
    },
    {
      "cell_type": "code",
      "source": [
        "1 not in [1,4,8]\n",
        "# 1이 [1,4,8]에 포함되지 않는다-False\n",
        "# not in 사용"
      ],
      "metadata": {
        "colab": {
          "base_uri": "https://localhost:8080/"
        },
        "id": "lNNt7o0y56E2",
        "outputId": "0c69139c-2114-4258-d60d-435f9db426d2"
      },
      "execution_count": null,
      "outputs": [
        {
          "output_type": "execute_result",
          "data": {
            "text/plain": [
              "False"
            ]
          },
          "metadata": {},
          "execution_count": 59
        }
      ]
    },
    {
      "cell_type": "code",
      "source": [
        "pocket=['paper','celllphone','money']\n",
        "if 'money' in pocket:\n",
        "  print(\"택시를 타고 가라\")\n",
        "\n",
        "else:\n",
        "  print(\"걸어가라\")\n",
        "#if문, else문 사용2"
      ],
      "metadata": {
        "colab": {
          "base_uri": "https://localhost:8080/"
        },
        "id": "Rhqmfk7h6AAl",
        "outputId": "bce64c7f-1ad0-4627-d20c-758370feac85"
      },
      "execution_count": null,
      "outputs": [
        {
          "output_type": "stream",
          "name": "stdout",
          "text": [
            "택시를 타고 가라\n"
          ]
        }
      ]
    },
    {
      "cell_type": "code",
      "source": [
        "pocket=['paper','money','cellphone']\n",
        "if 'money' in pocket:\n",
        "  pass\n",
        "\n",
        "else:\n",
        "  print(\"카드를 꺼내라\")\n",
        "# if문 사용시 참일 경우 pass 입력시 아무런 일도 일어나지 않음"
      ],
      "metadata": {
        "id": "cau_iRbj6zOl"
      },
      "execution_count": null,
      "outputs": []
    },
    {
      "cell_type": "code",
      "source": [
        "if (3>2):\n",
        "\n",
        "else:\n",
        "  print('Hello')\n",
        "# if문이 참일 경우 뒤에 pass를 입력하지 않으면 오류가 발생함"
      ],
      "metadata": {
        "colab": {
          "base_uri": "https://localhost:8080/",
          "height": 136
        },
        "id": "n38ECWrr74kg",
        "outputId": "2f82c882-72fd-4252-d1f5-c56094aa2c4e"
      },
      "execution_count": null,
      "outputs": [
        {
          "output_type": "error",
          "ename": "IndentationError",
          "evalue": "ignored",
          "traceback": [
            "\u001b[0;36m  File \u001b[0;32m\"<ipython-input-69-cd74541a205e>\"\u001b[0;36m, line \u001b[0;32m3\u001b[0m\n\u001b[0;31m    else:\u001b[0m\n\u001b[0m       ^\u001b[0m\n\u001b[0;31mIndentationError\u001b[0m\u001b[0;31m:\u001b[0m expected an indented block\n"
          ]
        }
      ]
    },
    {
      "cell_type": "code",
      "source": [
        "if (3>2):\n",
        "  pass\n",
        "\n",
        "else:\n",
        "  print('Hello')\n",
        "# pass를 입력하면 오류가 발생하지않음"
      ],
      "metadata": {
        "id": "qYRYiMzD8tq0"
      },
      "execution_count": null,
      "outputs": []
    },
    {
      "cell_type": "code",
      "source": [
        "pocket=['paper','cellphone']\n",
        "card=True\n",
        "if 'money' in pocket:\n",
        "  print(\"택시를 타고가라\")\n",
        "\n",
        "else:\n",
        "  if card:\n",
        "    print(\"택시 타고가라\")\n",
        "\n",
        "  else:\n",
        "    print(\"걸어가라\")\n",
        "# else와 if만 활용 "
      ],
      "metadata": {
        "colab": {
          "base_uri": "https://localhost:8080/"
        },
        "id": "uhSenGSo8xYU",
        "outputId": "66c164f3-16d1-481f-a540-5e1af5fb74b3"
      },
      "execution_count": null,
      "outputs": [
        {
          "output_type": "stream",
          "name": "stdout",
          "text": [
            "택시 타고가라\n"
          ]
        }
      ]
    },
    {
      "cell_type": "code",
      "source": [
        "pocket=['paper','cellphone']\n",
        "card=True\n",
        "if 'money' in pocket:\n",
        "  print(\"택시를 타고가라\")\n",
        "\n",
        "elif card:\n",
        "  print(\"택시 타고가라\")\n",
        "\n",
        "else:\n",
        "  print(\"걸어가라\")\n",
        "#else, if 대신 elif를 활용"
      ],
      "metadata": {
        "colab": {
          "base_uri": "https://localhost:8080/"
        },
        "id": "KrWmAcmM9sOv",
        "outputId": "5642db66-b860-44d1-b04a-c971e4f7ccda"
      },
      "execution_count": null,
      "outputs": [
        {
          "output_type": "stream",
          "name": "stdout",
          "text": [
            "택시 타고가라\n"
          ]
        }
      ]
    },
    {
      "cell_type": "code",
      "source": [
        "score=61\n",
        "if score >=60:\n",
        "  message=\"success\"\n",
        "\n",
        "else:\n",
        "  message=\"failure\"\n",
        "\n",
        "message\n",
        "# score 데이터 먼저 입력 후 진행\n",
        "# print(message)나 message 활용"
      ],
      "metadata": {
        "colab": {
          "base_uri": "https://localhost:8080/",
          "height": 35
        },
        "id": "y8ZnhFRV-FEW",
        "outputId": "7ffdf4fa-6b0c-437c-a83d-c0f2b245cbb2"
      },
      "execution_count": null,
      "outputs": [
        {
          "output_type": "execute_result",
          "data": {
            "text/plain": [
              "'success'"
            ],
            "application/vnd.google.colaboratory.intrinsic+json": {
              "type": "string"
            }
          },
          "metadata": {},
          "execution_count": 91
        }
      ]
    },
    {
      "cell_type": "code",
      "source": [
        "score=30\n",
        "message=\"success\" if score >= 60 else \"failure\"\n",
        "message\n",
        "# score 데이터 먼저 입력 후 진행\n",
        "# print(message)나 message 활용"
      ],
      "metadata": {
        "colab": {
          "base_uri": "https://localhost:8080/",
          "height": 35
        },
        "id": "adySsoMh-Wl3",
        "outputId": "26d11b48-36c6-48e5-ac94-165e6d56744b"
      },
      "execution_count": null,
      "outputs": [
        {
          "output_type": "execute_result",
          "data": {
            "text/plain": [
              "'failure'"
            ],
            "application/vnd.google.colaboratory.intrinsic+json": {
              "type": "string"
            }
          },
          "metadata": {},
          "execution_count": 90
        }
      ]
    }
  ]
}