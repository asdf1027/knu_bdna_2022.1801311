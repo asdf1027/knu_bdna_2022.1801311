{
  "nbformat": 4,
  "nbformat_minor": 0,
  "metadata": {
    "colab": {
      "name": "김현식 2강3강.ipynb",
      "provenance": [],
      "collapsed_sections": [],
      "authorship_tag": "ABX9TyPAqJlLXf2dDgqicXujI7cY",
      "include_colab_link": true
    },
    "kernelspec": {
      "name": "python3",
      "display_name": "Python 3"
    },
    "language_info": {
      "name": "python"
    }
  },
  "cells": [
    {
      "cell_type": "markdown",
      "metadata": {
        "id": "view-in-github",
        "colab_type": "text"
      },
      "source": [
        "<a href=\"https://colab.research.google.com/github/asdf1027/knu_bdna_2022.1801311/blob/main/%EA%B9%80%ED%98%84%EC%8B%9D_2%EA%B0%953%EA%B0%95.ipynb\" target=\"_parent\"><img src=\"https://colab.research.google.com/assets/colab-badge.svg\" alt=\"Open In Colab\"/></a>"
      ]
    },
    {
      "cell_type": "code",
      "execution_count": null,
      "metadata": {
        "id": "Mpj6BIASm8dA"
      },
      "outputs": [],
      "source": [
        "#4주차 강의 - 2강\n",
        "import numpy as np"
      ]
    },
    {
      "cell_type": "code",
      "source": [
        "np.__version__"
      ],
      "metadata": {
        "colab": {
          "base_uri": "https://localhost:8080/",
          "height": 35
        },
        "id": "mWfdROdbnoW8",
        "outputId": "76227756-6f7e-42ab-b632-35b687e1f651"
      },
      "execution_count": null,
      "outputs": [
        {
          "output_type": "execute_result",
          "data": {
            "text/plain": [
              "'1.21.5'"
            ],
            "application/vnd.google.colaboratory.intrinsic+json": {
              "type": "string"
            }
          },
          "metadata": {},
          "execution_count": 156
        }
      ]
    },
    {
      "cell_type": "code",
      "source": [
        "a=np.array((1,2,3),dtype=float)\n",
        "print(a)"
      ],
      "metadata": {
        "colab": {
          "base_uri": "https://localhost:8080/"
        },
        "id": "wfFNhUwinsaF",
        "outputId": "1953d911-d863-4124-ce36-519510a19571"
      },
      "execution_count": null,
      "outputs": [
        {
          "output_type": "stream",
          "name": "stdout",
          "text": [
            "[1. 2. 3.]\n"
          ]
        }
      ]
    },
    {
      "cell_type": "code",
      "source": [
        "b=np.array([(1,2,3),(4,5,6)], dtype=float)\n",
        "print(b)"
      ],
      "metadata": {
        "colab": {
          "base_uri": "https://localhost:8080/"
        },
        "id": "1UqEZ9jRt8OY",
        "outputId": "a88ff851-f7f1-4ef8-9899-1f28c960fc0c"
      },
      "execution_count": null,
      "outputs": [
        {
          "output_type": "stream",
          "name": "stdout",
          "text": [
            "[[1. 2. 3.]\n",
            " [4. 5. 6.]]\n"
          ]
        }
      ]
    },
    {
      "cell_type": "code",
      "source": [
        "c=np.array([[[1,2,3],[4,5,6]],[[9,8,7],[6,5,4]]],dtype=float)\n",
        "print(c)"
      ],
      "metadata": {
        "colab": {
          "base_uri": "https://localhost:8080/"
        },
        "id": "a9AOFC-juIOv",
        "outputId": "7cd8c28f-65d0-48a2-8b3a-20156565aa77"
      },
      "execution_count": null,
      "outputs": [
        {
          "output_type": "stream",
          "name": "stdout",
          "text": [
            "[[[1. 2. 3.]\n",
            "  [4. 5. 6.]]\n",
            "\n",
            " [[9. 8. 7.]\n",
            "  [6. 5. 4.]]]\n"
          ]
        }
      ]
    },
    {
      "cell_type": "code",
      "source": [
        "A=np.zeros((4))\n",
        "print(A)\n",
        "# np.zeros는 모든 숫자를 0으로 출력"
      ],
      "metadata": {
        "colab": {
          "base_uri": "https://localhost:8080/"
        },
        "id": "dhVR2cc5zInX",
        "outputId": "c9e5a1b4-03e5-4c49-fd3c-94360bb0c844"
      },
      "execution_count": null,
      "outputs": [
        {
          "output_type": "stream",
          "name": "stdout",
          "text": [
            "[0. 0. 0. 0.]\n"
          ]
        }
      ]
    },
    {
      "cell_type": "code",
      "source": [
        "B=np.zeros((4,4))\n",
        "print(B)\n",
        "# np.zeros는 모든 숫자를 0으로 출력\n",
        "# 4x4 출력"
      ],
      "metadata": {
        "colab": {
          "base_uri": "https://localhost:8080/"
        },
        "id": "6bETG7nLzSvn",
        "outputId": "7c26ad9f-af31-4ea1-dee3-6008f8cc7ffc"
      },
      "execution_count": null,
      "outputs": [
        {
          "output_type": "stream",
          "name": "stdout",
          "text": [
            "[[0. 0. 0. 0.]\n",
            " [0. 0. 0. 0.]\n",
            " [0. 0. 0. 0.]\n",
            " [0. 0. 0. 0.]]\n"
          ]
        }
      ]
    },
    {
      "cell_type": "code",
      "source": [
        "C=np.zeros((2,3,3))\n",
        "print(C)\n",
        "# np.zeros는 모든 숫자를 0으로 출력\n",
        "# 3x3을 두개 출력"
      ],
      "metadata": {
        "colab": {
          "base_uri": "https://localhost:8080/"
        },
        "id": "GSWmi8mMzaTf",
        "outputId": "75196ef1-0867-41d3-f1df-b2e523d6f215"
      },
      "execution_count": null,
      "outputs": [
        {
          "output_type": "stream",
          "name": "stdout",
          "text": [
            "[[[0. 0. 0.]\n",
            "  [0. 0. 0.]\n",
            "  [0. 0. 0.]]\n",
            "\n",
            " [[0. 0. 0.]\n",
            "  [0. 0. 0.]\n",
            "  [0. 0. 0.]]]\n"
          ]
        }
      ]
    },
    {
      "cell_type": "code",
      "source": [
        "a=np.ones(3)\n",
        "print(a)\n",
        "# np.ones는 모든 숫자를 1로 출력"
      ],
      "metadata": {
        "colab": {
          "base_uri": "https://localhost:8080/"
        },
        "id": "opg9Xms7lgsW",
        "outputId": "90348938-7f3e-4965-96f2-e0c011a4c900"
      },
      "execution_count": null,
      "outputs": [
        {
          "output_type": "stream",
          "name": "stdout",
          "text": [
            "[1. 1. 1.]\n"
          ]
        }
      ]
    },
    {
      "cell_type": "code",
      "source": [
        "b=np.ones((2,3))\n",
        "print(b)\n",
        "# np.ones는 모든 숫자를 1로 출력"
      ],
      "metadata": {
        "colab": {
          "base_uri": "https://localhost:8080/"
        },
        "id": "7WcwrPknlgQm",
        "outputId": "a650125c-dd49-4b5c-a3bd-d7c598b259f6"
      },
      "execution_count": null,
      "outputs": [
        {
          "output_type": "stream",
          "name": "stdout",
          "text": [
            "[[1. 1. 1.]\n",
            " [1. 1. 1.]]\n"
          ]
        }
      ]
    },
    {
      "cell_type": "code",
      "source": [
        "c=np.ones((2,4,4))\n",
        "print((c))\n",
        "# np.ones는 모든 숫자를 1로 출력"
      ],
      "metadata": {
        "colab": {
          "base_uri": "https://localhost:8080/"
        },
        "id": "SG8YQioslgFP",
        "outputId": "3412e8e9-59d4-46ce-8c20-8391c1d5a903"
      },
      "execution_count": null,
      "outputs": [
        {
          "output_type": "stream",
          "name": "stdout",
          "text": [
            "[[[1. 1. 1. 1.]\n",
            "  [1. 1. 1. 1.]\n",
            "  [1. 1. 1. 1.]\n",
            "  [1. 1. 1. 1.]]\n",
            "\n",
            " [[1. 1. 1. 1.]\n",
            "  [1. 1. 1. 1.]\n",
            "  [1. 1. 1. 1.]\n",
            "  [1. 1. 1. 1.]]]\n"
          ]
        }
      ]
    },
    {
      "cell_type": "code",
      "source": [
        "a=np.full((3),4.3,dtype=np.int16)\n",
        "print(a)\n",
        "# 4.3으로 입력했지만 dtype을 np.int16으로 설정해서 정수인 4로만 출력"
      ],
      "metadata": {
        "colab": {
          "base_uri": "https://localhost:8080/"
        },
        "id": "wvxPkra6zg_X",
        "outputId": "684702f6-6fc2-4de8-b70d-215f01d27d25"
      },
      "execution_count": null,
      "outputs": [
        {
          "output_type": "stream",
          "name": "stdout",
          "text": [
            "[4 4 4]\n"
          ]
        }
      ]
    },
    {
      "cell_type": "code",
      "source": [
        "b=np.full((4,4),1.1,dtype=float)\n",
        "print(b)\n",
        "# 1.1를 4x4로 출력\n",
        "# dtype을 float으로 설정해서 실수로 출력"
      ],
      "metadata": {
        "colab": {
          "base_uri": "https://localhost:8080/"
        },
        "id": "7b6DVL0_0fFw",
        "outputId": "062f8ed9-ca45-41a9-f2a2-8e1cca06e584"
      },
      "execution_count": null,
      "outputs": [
        {
          "output_type": "stream",
          "name": "stdout",
          "text": [
            "[[1.1 1.1 1.1 1.1]\n",
            " [1.1 1.1 1.1 1.1]\n",
            " [1.1 1.1 1.1 1.1]\n",
            " [1.1 1.1 1.1 1.1]]\n"
          ]
        }
      ]
    },
    {
      "cell_type": "code",
      "source": [
        "B=np.full((4,4),1)\n",
        "print(B)\n",
        "# dtype을 따로 설정하지 않으면 입력 데이터 그대로 출력"
      ],
      "metadata": {
        "colab": {
          "base_uri": "https://localhost:8080/"
        },
        "id": "XTVXGgPL0sk3",
        "outputId": "d8073890-a51f-4734-c301-40aeb63a21d2"
      },
      "execution_count": null,
      "outputs": [
        {
          "output_type": "stream",
          "name": "stdout",
          "text": [
            "[[1 1 1 1]\n",
            " [1 1 1 1]\n",
            " [1 1 1 1]\n",
            " [1 1 1 1]]\n"
          ]
        }
      ]
    },
    {
      "cell_type": "code",
      "source": [
        "B=np.full((4,4),1.2)\n",
        "print(B)\n",
        "# dtype을 따로 설정하지 않으면 입력 데이터 그대로 출력"
      ],
      "metadata": {
        "colab": {
          "base_uri": "https://localhost:8080/"
        },
        "id": "T6iZncvC9P1h",
        "outputId": "f934d37c-457d-4621-f765-8af852b787d9"
      },
      "execution_count": null,
      "outputs": [
        {
          "output_type": "stream",
          "name": "stdout",
          "text": [
            "[[1.2 1.2 1.2 1.2]\n",
            " [1.2 1.2 1.2 1.2]\n",
            " [1.2 1.2 1.2 1.2]\n",
            " [1.2 1.2 1.2 1.2]]\n"
          ]
        }
      ]
    },
    {
      "cell_type": "code",
      "source": [
        "c=np.full((2,3,3),2,dtype=float)\n",
        "print(c)\n",
        "# 3x3를 2로 두개 출력\n",
        "# 버전이 달라서  dtype=np.float이 아닌 dtype=float나 dtype=np.float64로 바꿔서 실행"
      ],
      "metadata": {
        "colab": {
          "base_uri": "https://localhost:8080/"
        },
        "id": "J5QWoP9A1O5J",
        "outputId": "e72a8885-8ce3-4241-a9d2-18047e058e13"
      },
      "execution_count": null,
      "outputs": [
        {
          "output_type": "stream",
          "name": "stdout",
          "text": [
            "[[[2. 2. 2.]\n",
            "  [2. 2. 2.]\n",
            "  [2. 2. 2.]]\n",
            "\n",
            " [[2. 2. 2.]\n",
            "  [2. 2. 2.]\n",
            "  [2. 2. 2.]]]\n"
          ]
        }
      ]
    },
    {
      "cell_type": "code",
      "source": [
        "a=np.eye(3,dtype=float)\n",
        "print(a)\n",
        "# 단위행렬 I와 같음"
      ],
      "metadata": {
        "colab": {
          "base_uri": "https://localhost:8080/"
        },
        "id": "DyveppPB1qkZ",
        "outputId": "102c24df-c451-4efe-f10a-8957dfa49e01"
      },
      "execution_count": null,
      "outputs": [
        {
          "output_type": "stream",
          "name": "stdout",
          "text": [
            "[[1. 0. 0.]\n",
            " [0. 1. 0.]\n",
            " [0. 0. 1.]]\n"
          ]
        }
      ]
    },
    {
      "cell_type": "code",
      "source": [
        "a=np.array([(1,2,3),(4,5,6)],dtype=float)\n",
        "print(a)\n",
        "# [[1,2,3],[4,5,6]] 출력"
      ],
      "metadata": {
        "colab": {
          "base_uri": "https://localhost:8080/"
        },
        "id": "Lt7GdQ0om95f",
        "outputId": "d794051a-a50e-48a7-f6b6-c684d75462b8"
      },
      "execution_count": null,
      "outputs": [
        {
          "output_type": "stream",
          "name": "stdout",
          "text": [
            "[[1. 2. 3.]\n",
            " [4. 5. 6.]]\n"
          ]
        }
      ]
    },
    {
      "cell_type": "code",
      "source": [
        "a=np.array([(1,2,3),(4,5,6)],dtype=float)\n",
        "b=np.ones_like(a)\n",
        "print(b)\n",
        "# 위의 [[1,2,3],[4,5,6]]의 모든 수를 1로 출력"
      ],
      "metadata": {
        "colab": {
          "base_uri": "https://localhost:8080/"
        },
        "id": "2TAdiv7d3C7W",
        "outputId": "f0d4a6b0-88ce-4765-cc4e-f2b2086c1037"
      },
      "execution_count": null,
      "outputs": [
        {
          "output_type": "stream",
          "name": "stdout",
          "text": [
            "[[1. 1. 1.]\n",
            " [1. 1. 1.]]\n"
          ]
        }
      ]
    },
    {
      "cell_type": "code",
      "source": [
        "a=np.array([(1,2,3,4),(5,6,7,8)],dtype=float)\n",
        "print(a)\n",
        "#[[1,2,3,4],[5,6,7,8]] 출력"
      ],
      "metadata": {
        "colab": {
          "base_uri": "https://localhost:8080/"
        },
        "id": "8M_wRRN-nmtv",
        "outputId": "aeadbe18-7aa4-41da-dc7e-c704d06cfc2b"
      },
      "execution_count": null,
      "outputs": [
        {
          "output_type": "stream",
          "name": "stdout",
          "text": [
            "[[1. 2. 3. 4.]\n",
            " [5. 6. 7. 8.]]\n"
          ]
        }
      ]
    },
    {
      "cell_type": "code",
      "source": [
        "a=np.array([(1,2,3,4),(5,6,7,8)],dtype=float)\n",
        "b=np.zeros_like(a)\n",
        "print(b)\n",
        "# 위의 [[1,2,3,4],[5,6,7,8]]의 모든 수를 0으로 출력"
      ],
      "metadata": {
        "colab": {
          "base_uri": "https://localhost:8080/"
        },
        "id": "5CQSScOo-pXT",
        "outputId": "6a8a95f4-bad7-4750-eff8-439e912c1f58"
      },
      "execution_count": null,
      "outputs": [
        {
          "output_type": "stream",
          "name": "stdout",
          "text": [
            "[[0. 0. 0. 0.]\n",
            " [0. 0. 0. 0.]]\n"
          ]
        }
      ]
    },
    {
      "cell_type": "code",
      "source": [
        "a=np.array([(1,2,3),(4,5,6)],dtype=float)\n",
        "b=np.full_like(a,3,dtype=float)\n",
        "print(b)\n",
        "# [[1,2,3],[4,5,6]]의 모든 수를 3으로 출력"
      ],
      "metadata": {
        "colab": {
          "base_uri": "https://localhost:8080/"
        },
        "id": "o1aWpBT0BHZb",
        "outputId": "cbabc704-582b-4047-fc4c-195f15249f76"
      },
      "execution_count": null,
      "outputs": [
        {
          "output_type": "stream",
          "name": "stdout",
          "text": [
            "[[3. 3. 3.]\n",
            " [3. 3. 3.]]\n"
          ]
        }
      ]
    },
    {
      "cell_type": "code",
      "source": [
        "arr=np.array([(1,2,3),(4,5,6)],dtype=float)\n",
        "print(arr)"
      ],
      "metadata": {
        "colab": {
          "base_uri": "https://localhost:8080/"
        },
        "id": "hg0cVLnvCLpj",
        "outputId": "42ade18e-1683-4076-d11c-6834826402d7"
      },
      "execution_count": null,
      "outputs": [
        {
          "output_type": "stream",
          "name": "stdout",
          "text": [
            "[[1. 2. 3.]\n",
            " [4. 5. 6.]]\n"
          ]
        }
      ]
    },
    {
      "cell_type": "code",
      "source": [
        "arr.shape\n",
        "# arr 배열의 모양"
      ],
      "metadata": {
        "colab": {
          "base_uri": "https://localhost:8080/"
        },
        "id": "s5aE9m_GoI7h",
        "outputId": "97763300-3b56-464b-f8c3-1555e1317204"
      },
      "execution_count": null,
      "outputs": [
        {
          "output_type": "execute_result",
          "data": {
            "text/plain": [
              "(2, 3)"
            ]
          },
          "metadata": {},
          "execution_count": 178
        }
      ]
    },
    {
      "cell_type": "code",
      "source": [
        "len(arr)\n",
        "# arr의 길이"
      ],
      "metadata": {
        "colab": {
          "base_uri": "https://localhost:8080/"
        },
        "id": "xQhaxR2boKvp",
        "outputId": "4c7ab8df-fc58-4af7-9a1d-67d4dd5ac7c7"
      },
      "execution_count": null,
      "outputs": [
        {
          "output_type": "execute_result",
          "data": {
            "text/plain": [
              "2"
            ]
          },
          "metadata": {},
          "execution_count": 179
        }
      ]
    },
    {
      "cell_type": "code",
      "source": [
        "arr.ndim\n",
        "# arr 배열의 차원 수(2차원 배열일 경우 2 출력,3차원 배열일 경우 3 출력)"
      ],
      "metadata": {
        "colab": {
          "base_uri": "https://localhost:8080/"
        },
        "id": "5fbnzNeaoOQ5",
        "outputId": "902837db-1b17-4ed3-8382-d1d10f7b388b"
      },
      "execution_count": null,
      "outputs": [
        {
          "output_type": "execute_result",
          "data": {
            "text/plain": [
              "2"
            ]
          },
          "metadata": {},
          "execution_count": 180
        }
      ]
    },
    {
      "cell_type": "code",
      "source": [
        "arr.dtype\n",
        "# arr의 data type 종류"
      ],
      "metadata": {
        "colab": {
          "base_uri": "https://localhost:8080/"
        },
        "id": "HVEGsvo3oxhx",
        "outputId": "14301562-7920-4254-b9b2-ec23bb9a173b"
      },
      "execution_count": null,
      "outputs": [
        {
          "output_type": "execute_result",
          "data": {
            "text/plain": [
              "dtype('float64')"
            ]
          },
          "metadata": {},
          "execution_count": 181
        }
      ]
    },
    {
      "cell_type": "code",
      "source": [
        "# np.int64 - 64bit 정수 (numpy.int64)\n",
        "# np.float32 - 32bit 실수 (numpy.float32)\n",
        "# np.complex(np.complex128) - 복소수 (numpy.complex128)\n",
        "# np.bool(np.bool_) - True or False (numpy.bool_)\n",
        "# np.object(object) - 파이썬 객체 (object)\n",
        "# np.string_ - 고정자리 스트링 (numpy.bytes_)\n",
        "# np.unicode_ - 고정자리 유니코드 (numpy.str_)"
      ],
      "metadata": {
        "id": "t0VSIZUopBAB"
      },
      "execution_count": null,
      "outputs": []
    },
    {
      "cell_type": "code",
      "source": [
        "a=np.linspace(0,1,6)\n",
        "print(a)\n",
        "# 0과 1 사이에서 6등분 간격으로 데이터 생성"
      ],
      "metadata": {
        "colab": {
          "base_uri": "https://localhost:8080/"
        },
        "id": "5MexS3cJ3WZ9",
        "outputId": "3cb6df8b-4fdb-4b6f-b544-4d7bff8a900f"
      },
      "execution_count": null,
      "outputs": [
        {
          "output_type": "stream",
          "name": "stdout",
          "text": [
            "[0.  0.2 0.4 0.6 0.8 1. ]\n"
          ]
        }
      ]
    },
    {
      "cell_type": "code",
      "source": [
        "A=np.arange(0,10,3,np.float64)\n",
        "print(A)\n",
        "# 0부터 10미만까지 3간격으로 데이터 생성"
      ],
      "metadata": {
        "colab": {
          "base_uri": "https://localhost:8080/"
        },
        "id": "O2RknJTQ4BRq",
        "outputId": "fae61661-0b4a-486c-8d7c-6c701a6fb608"
      },
      "execution_count": null,
      "outputs": [
        {
          "output_type": "stream",
          "name": "stdout",
          "text": [
            "[0. 3. 6. 9.]\n"
          ]
        }
      ]
    },
    {
      "cell_type": "code",
      "source": [
        "a=np.logspace(0,10,5,np.float64)\n",
        "print(a)\n",
        "# 0에서 10까지를 5등분 간격으로 데이터 생성\n",
        "# 로그스케일의 linspace 함수"
      ],
      "metadata": {
        "colab": {
          "base_uri": "https://localhost:8080/"
        },
        "id": "RC3y8c9Y5mTv",
        "outputId": "72285916-bf83-40d5-8073-eaacf00b0361"
      },
      "execution_count": null,
      "outputs": [
        {
          "output_type": "stream",
          "name": "stdout",
          "text": [
            "[1.00000000e+00 3.16227766e+02 1.00000000e+05 3.16227766e+07\n",
            " 1.00000000e+10]\n"
          ]
        }
      ]
    },
    {
      "cell_type": "code",
      "source": [
        "A=np.arange(1,17).reshape(4,4)\n",
        "print(A)\n",
        "# 1부터 16까지를 4x4로 순서대로 채움\n",
        "# (1,17)이지만 마지막 숫자인 17은 뺌"
      ],
      "metadata": {
        "colab": {
          "base_uri": "https://localhost:8080/"
        },
        "id": "N-hOGux_6VR-",
        "outputId": "fd6a1b32-bbc6-4a59-b853-081f014706c4"
      },
      "execution_count": null,
      "outputs": [
        {
          "output_type": "stream",
          "name": "stdout",
          "text": [
            "[[ 1  2  3  4]\n",
            " [ 5  6  7  8]\n",
            " [ 9 10 11 12]\n",
            " [13 14 15 16]]\n"
          ]
        }
      ]
    },
    {
      "cell_type": "code",
      "source": [
        "B=np.arange(1,5).reshape(1,4)\n",
        "print(B)\n",
        "# 1부터 4까지를 1x4로 순서대로 채움\n",
        "# (1,5)지만 마지막 숫자인 5는 뺌"
      ],
      "metadata": {
        "colab": {
          "base_uri": "https://localhost:8080/"
        },
        "id": "zGGK2Fas69cF",
        "outputId": "43d003d7-688d-4c25-c7e9-586c1972962c"
      },
      "execution_count": null,
      "outputs": [
        {
          "output_type": "stream",
          "name": "stdout",
          "text": [
            "[[1 2 3 4]]\n"
          ]
        }
      ]
    },
    {
      "cell_type": "code",
      "source": [
        "C=np.arange(16,0,-1).reshape(4,4)\n",
        "print(C)\n",
        "# 16부터 1까지를 4x4으로 -1 간격씩 채움 \n",
        "# (16,0,-1)이지만 역순으로 마지막 숫자인 0은 뺌"
      ],
      "metadata": {
        "colab": {
          "base_uri": "https://localhost:8080/"
        },
        "id": "Uob-sRP67HL4",
        "outputId": "7b909acc-8914-4f19-bbb6-b8785f9fc98c"
      },
      "execution_count": null,
      "outputs": [
        {
          "output_type": "stream",
          "name": "stdout",
          "text": [
            "[[16 15 14 13]\n",
            " [12 11 10  9]\n",
            " [ 8  7  6  5]\n",
            " [ 4  3  2  1]]\n"
          ]
        }
      ]
    },
    {
      "cell_type": "code",
      "source": [
        "a=np.add(A,C)\n",
        "print(a)\n",
        "# 위의 4x4 행렬인 A와 C를 각각 더한 값(배열연산)"
      ],
      "metadata": {
        "colab": {
          "base_uri": "https://localhost:8080/"
        },
        "id": "d4MER1le8jZQ",
        "outputId": "185886f0-635d-43b0-c86a-3c43fdcf0cc0"
      },
      "execution_count": null,
      "outputs": [
        {
          "output_type": "stream",
          "name": "stdout",
          "text": [
            "[[17 17 17 17]\n",
            " [17 17 17 17]\n",
            " [17 17 17 17]\n",
            " [17 17 17 17]]\n"
          ]
        }
      ]
    },
    {
      "cell_type": "code",
      "source": [
        "b=np.subtract(A,C)\n",
        "print(b)\n",
        "# 위의 4x4 행렬인 A와 C를 각각 뺀 값(배열연산)"
      ],
      "metadata": {
        "colab": {
          "base_uri": "https://localhost:8080/"
        },
        "id": "DuVjinoT9HTS",
        "outputId": "50ac3867-20d3-42b6-9a6e-68c9b744fce3"
      },
      "execution_count": null,
      "outputs": [
        {
          "output_type": "stream",
          "name": "stdout",
          "text": [
            "[[-15 -13 -11  -9]\n",
            " [ -7  -5  -3  -1]\n",
            " [  1   3   5   7]\n",
            " [  9  11  13  15]]\n"
          ]
        }
      ]
    },
    {
      "cell_type": "code",
      "source": [
        "c=np.multiply(A,C)\n",
        "print(c)\n",
        "# 위의 4x4 행렬인 A와 C를 각각 곱한 값(배열연산)"
      ],
      "metadata": {
        "colab": {
          "base_uri": "https://localhost:8080/"
        },
        "id": "FB1ybphb9fS-",
        "outputId": "f40943ec-6e59-4fa9-b4a5-cbf2de89d9ee"
      },
      "execution_count": null,
      "outputs": [
        {
          "output_type": "stream",
          "name": "stdout",
          "text": [
            "[[16 30 42 52]\n",
            " [60 66 70 72]\n",
            " [72 70 66 60]\n",
            " [52 42 30 16]]\n"
          ]
        }
      ]
    },
    {
      "cell_type": "code",
      "source": [
        "d=np.divide(A,C)\n",
        "print(d)\n",
        "# 위의 4x4 행렬인 A와 C를 각각 나눈 값(배열연산)"
      ],
      "metadata": {
        "colab": {
          "base_uri": "https://localhost:8080/"
        },
        "id": "B3V8kBST-CTL",
        "outputId": "b462b99a-45b6-4122-ed4f-1df897c57a46"
      },
      "execution_count": null,
      "outputs": [
        {
          "output_type": "stream",
          "name": "stdout",
          "text": [
            "[[ 0.0625      0.13333333  0.21428571  0.30769231]\n",
            " [ 0.41666667  0.54545455  0.7         0.88888889]\n",
            " [ 1.125       1.42857143  1.83333333  2.4       ]\n",
            " [ 3.25        4.66666667  7.5        16.        ]]\n"
          ]
        }
      ]
    },
    {
      "cell_type": "code",
      "source": [
        "e=np.dot(A,C)\n",
        "print(e)\n",
        "# 위의 4x4 행렬인 A와 C를 곱한 값(매트릭스 곱)"
      ],
      "metadata": {
        "colab": {
          "base_uri": "https://localhost:8080/"
        },
        "id": "FgZKXk_i-J87",
        "outputId": "96b94d29-cf2b-493d-aa04-872088b472e3"
      },
      "execution_count": null,
      "outputs": [
        {
          "output_type": "stream",
          "name": "stdout",
          "text": [
            "[[ 80  70  60  50]\n",
            " [240 214 188 162]\n",
            " [400 358 316 274]\n",
            " [560 502 444 386]]\n"
          ]
        }
      ]
    },
    {
      "cell_type": "code",
      "source": [
        "np.exp(a)"
      ],
      "metadata": {
        "colab": {
          "base_uri": "https://localhost:8080/"
        },
        "id": "kX-UhZI4-fPj",
        "outputId": "b114aefd-735d-4fa6-c095-af129d87d962"
      },
      "execution_count": null,
      "outputs": [
        {
          "output_type": "execute_result",
          "data": {
            "text/plain": [
              "array([[24154952.7535753, 24154952.7535753, 24154952.7535753,\n",
              "        24154952.7535753],\n",
              "       [24154952.7535753, 24154952.7535753, 24154952.7535753,\n",
              "        24154952.7535753],\n",
              "       [24154952.7535753, 24154952.7535753, 24154952.7535753,\n",
              "        24154952.7535753],\n",
              "       [24154952.7535753, 24154952.7535753, 24154952.7535753,\n",
              "        24154952.7535753]])"
            ]
          },
          "metadata": {},
          "execution_count": 194
        }
      ]
    },
    {
      "cell_type": "code",
      "source": [
        "np.sqrt(a)"
      ],
      "metadata": {
        "colab": {
          "base_uri": "https://localhost:8080/"
        },
        "id": "ymxUApit_ixM",
        "outputId": "b0160cb5-5e8e-4f2c-c545-a776a63a59ba"
      },
      "execution_count": null,
      "outputs": [
        {
          "output_type": "execute_result",
          "data": {
            "text/plain": [
              "array([[4.12310563, 4.12310563, 4.12310563, 4.12310563],\n",
              "       [4.12310563, 4.12310563, 4.12310563, 4.12310563],\n",
              "       [4.12310563, 4.12310563, 4.12310563, 4.12310563],\n",
              "       [4.12310563, 4.12310563, 4.12310563, 4.12310563]])"
            ]
          },
          "metadata": {},
          "execution_count": 195
        }
      ]
    },
    {
      "cell_type": "code",
      "source": [
        "np.sin(a)"
      ],
      "metadata": {
        "colab": {
          "base_uri": "https://localhost:8080/"
        },
        "id": "2ts2Q3Wf_nmz",
        "outputId": "7ec3b4c5-3557-4a66-cf67-f6acce75dd03"
      },
      "execution_count": null,
      "outputs": [
        {
          "output_type": "execute_result",
          "data": {
            "text/plain": [
              "array([[-0.96139749, -0.96139749, -0.96139749, -0.96139749],\n",
              "       [-0.96139749, -0.96139749, -0.96139749, -0.96139749],\n",
              "       [-0.96139749, -0.96139749, -0.96139749, -0.96139749],\n",
              "       [-0.96139749, -0.96139749, -0.96139749, -0.96139749]])"
            ]
          },
          "metadata": {},
          "execution_count": 196
        }
      ]
    },
    {
      "cell_type": "code",
      "source": [
        "np.cos(a)"
      ],
      "metadata": {
        "colab": {
          "base_uri": "https://localhost:8080/"
        },
        "id": "wsGs62is_oRx",
        "outputId": "0477ba1c-3e25-4247-e974-923005b1b6fa"
      },
      "execution_count": null,
      "outputs": [
        {
          "output_type": "execute_result",
          "data": {
            "text/plain": [
              "array([[-0.27516334, -0.27516334, -0.27516334, -0.27516334],\n",
              "       [-0.27516334, -0.27516334, -0.27516334, -0.27516334],\n",
              "       [-0.27516334, -0.27516334, -0.27516334, -0.27516334],\n",
              "       [-0.27516334, -0.27516334, -0.27516334, -0.27516334]])"
            ]
          },
          "metadata": {},
          "execution_count": 197
        }
      ]
    },
    {
      "cell_type": "code",
      "source": [
        "np.tan(a)"
      ],
      "metadata": {
        "colab": {
          "base_uri": "https://localhost:8080/"
        },
        "id": "qBwWWR44_v1k",
        "outputId": "4e29c9fd-ea7d-473f-8a2c-b40acbc80fc3"
      },
      "execution_count": null,
      "outputs": [
        {
          "output_type": "execute_result",
          "data": {
            "text/plain": [
              "array([[3.49391565, 3.49391565, 3.49391565, 3.49391565],\n",
              "       [3.49391565, 3.49391565, 3.49391565, 3.49391565],\n",
              "       [3.49391565, 3.49391565, 3.49391565, 3.49391565],\n",
              "       [3.49391565, 3.49391565, 3.49391565, 3.49391565]])"
            ]
          },
          "metadata": {},
          "execution_count": 198
        }
      ]
    },
    {
      "cell_type": "code",
      "source": [
        "np.log(a)"
      ],
      "metadata": {
        "colab": {
          "base_uri": "https://localhost:8080/"
        },
        "id": "U7i5qJTh_1m7",
        "outputId": "c29c6184-e223-4373-9636-9baa6d86aab8"
      },
      "execution_count": null,
      "outputs": [
        {
          "output_type": "execute_result",
          "data": {
            "text/plain": [
              "array([[2.83321334, 2.83321334, 2.83321334, 2.83321334],\n",
              "       [2.83321334, 2.83321334, 2.83321334, 2.83321334],\n",
              "       [2.83321334, 2.83321334, 2.83321334, 2.83321334],\n",
              "       [2.83321334, 2.83321334, 2.83321334, 2.83321334]])"
            ]
          },
          "metadata": {},
          "execution_count": 199
        }
      ]
    },
    {
      "cell_type": "code",
      "source": [
        "import matplotlib.pyplot as plt\n",
        "# matplotlib module 불러오는 방법"
      ],
      "metadata": {
        "id": "WRaZ7EEJ_2Xc"
      },
      "execution_count": null,
      "outputs": []
    },
    {
      "cell_type": "code",
      "source": [
        "plt.plot([1,2,3],[0,10,-10])\n",
        "plt.show()\n",
        "# 첫번째 벡터가 x축, 두번째 벡터가 y축"
      ],
      "metadata": {
        "colab": {
          "base_uri": "https://localhost:8080/",
          "height": 264
        },
        "id": "0PfHAUXPAa8M",
        "outputId": "858b167d-9b75-416a-b51a-9d14b075f37c"
      },
      "execution_count": null,
      "outputs": [
        {
          "output_type": "display_data",
          "data": {
            "text/plain": [
              "<Figure size 432x288 with 1 Axes>"
            ],
            "image/png": "[encoded data removed]"
          },
          "metadata": {
            "needs_background": "light"
          }
        }
      ]
    },
    {
      "cell_type": "code",
      "source": [
        "plt.plot([-10,10,5])\n",
        "plt.show()\n",
        "# 하나만 입력하게 되면 x축은 자동으로 생성된다(ex: 1,2,3,...)"
      ],
      "metadata": {
        "colab": {
          "base_uri": "https://localhost:8080/",
          "height": 264
        },
        "id": "0GuF2aBFB4VF",
        "outputId": "4e414d4b-3660-4515-890a-0e0889be5927"
      },
      "execution_count": null,
      "outputs": [
        {
          "output_type": "display_data",
          "data": {
            "text/plain": [
              "<Figure size 432x288 with 1 Axes>"
            ],
            "image/png": "[encoded data removed]"
          },
          "metadata": {
            "needs_background": "light"
          }
        }
      ]
    },
    {
      "cell_type": "code",
      "source": [
        "plt.plot([1,3,5,9],[10,12,25,29])"
      ],
      "metadata": {
        "colab": {
          "base_uri": "https://localhost:8080/",
          "height": 283
        },
        "id": "5JEsbvvmCYie",
        "outputId": "ef0396f1-318f-4d0f-8cd4-777760095daf"
      },
      "execution_count": null,
      "outputs": [
        {
          "output_type": "execute_result",
          "data": {
            "text/plain": [
              "[<matplotlib.lines.Line2D at 0x7fecf9508410>]"
            ]
          },
          "metadata": {},
          "execution_count": 203
        },
        {
          "output_type": "display_data",
          "data": {
            "text/plain": [
              "<Figure size 432x288 with 1 Axes>"
            ],
            "image/png": "[encoded data removed]"
          },
          "metadata": {
            "needs_background": "light"
          }
        }
      ]
    },
    {
      "cell_type": "code",
      "source": [
        "plt.plot([1,3,5,9],[10,12,25,29])\n",
        "plt.xlabel('xyz')\n",
        "plt.ylabel('abc')\n",
        "plt.title('Data')\n",
        "plt.show()\n",
        "# x축, y축, title name도 정할 수 있음"
      ],
      "metadata": {
        "colab": {
          "base_uri": "https://localhost:8080/",
          "height": 294
        },
        "id": "pZbDh-D5C5fo",
        "outputId": "2e5623e0-d777-4aa9-aedb-f52803304543"
      },
      "execution_count": null,
      "outputs": [
        {
          "output_type": "display_data",
          "data": {
            "text/plain": [
              "<Figure size 432x288 with 1 Axes>"
            ],
            "image/png": "[encoded data removed]"
          },
          "metadata": {
            "needs_background": "light"
          }
        }
      ]
    },
    {
      "cell_type": "code",
      "source": [
        "x=np.linspace(0,2*np.pi,100)\n",
        "y=np.sin(x)\n",
        "# x축, y축 생성"
      ],
      "metadata": {
        "id": "vUiCYEFiDSTu"
      },
      "execution_count": null,
      "outputs": []
    },
    {
      "cell_type": "code",
      "source": [
        "plt.plot(x,y)\n",
        "plt.xlabel('x')\n",
        "plt.ylabel('y')\n",
        "plt.title('sin(x)')\n",
        "plt.show()\n",
        "# sin함수 그리기"
      ],
      "metadata": {
        "colab": {
          "base_uri": "https://localhost:8080/",
          "height": 294
        },
        "id": "2XJldF-hD1LH",
        "outputId": "3c2e172f-2d8d-4635-f91a-e1ac0f21ae2c"
      },
      "execution_count": null,
      "outputs": [
        {
          "output_type": "display_data",
          "data": {
            "text/plain": [
              "<Figure size 432x288 with 1 Axes>"
            ],
            "image/png": "[encoded data removed]"
          },
          "metadata": {
            "needs_background": "light"
          }
        }
      ]
    },
    {
      "cell_type": "code",
      "source": [
        "x=np.linspace(0,2*np.pi,100)\n",
        "y=np.sin(x)+np.cos(x)+10\n",
        "# x축 ,y축 생성"
      ],
      "metadata": {
        "id": "UxKWhF19EZ1n"
      },
      "execution_count": null,
      "outputs": []
    },
    {
      "cell_type": "code",
      "source": [
        "plt.plot(x,y)\n",
        "plt.xlabel('xyz')\n",
        "plt.ylabel('123')\n",
        "plt.title('sin(x)+cos(x)+10')\n",
        "plt.show()\n",
        "# sin(x)+cos(x)+10 함수 그리기"
      ],
      "metadata": {
        "colab": {
          "base_uri": "https://localhost:8080/",
          "height": 294
        },
        "id": "tlz5_b1qE5wJ",
        "outputId": "19f76bb1-d01a-4777-d9c5-7dc3a9b60f24"
      },
      "execution_count": null,
      "outputs": [
        {
          "output_type": "display_data",
          "data": {
            "text/plain": [
              "<Figure size 432x288 with 1 Axes>"
            ],
            "image/png": "[encoded data removed]"
          },
          "metadata": {
            "needs_background": "light"
          }
        }
      ]
    },
    {
      "cell_type": "code",
      "source": [
        "x=np.linspace(0,2*np.pi,100)\n",
        "y1=np.sin(x)\n",
        "y2=np.sin(x)+np.cos(x)\n",
        "# x축 ,y축 생성"
      ],
      "metadata": {
        "id": "UpH3sCUYFFLX"
      },
      "execution_count": null,
      "outputs": []
    },
    {
      "cell_type": "code",
      "source": [
        "plt.plot(x,y1,x,y2)\n",
        "plt.xlabel('x')\n",
        "plt.ylabel('y')\n",
        "plt.title('two function')\n",
        "plt.legend(['sin(x)','sin(x)+cos(x)'])\n",
        "plt.show()\n",
        "# 두개의 함수를 그래프 만들기"
      ],
      "metadata": {
        "colab": {
          "base_uri": "https://localhost:8080/",
          "height": 294
        },
        "id": "ICJzDnmBFeLA",
        "outputId": "2db87261-284f-4693-de55-4e4162e5246c"
      },
      "execution_count": null,
      "outputs": [
        {
          "output_type": "display_data",
          "data": {
            "text/plain": [
              "<Figure size 432x288 with 1 Axes>"
            ],
            "image/png": "[encoded data removed]"
          },
          "metadata": {
            "needs_background": "light"
          }
        }
      ]
    },
    {
      "cell_type": "code",
      "source": [
        "x=np.linspace(0,2*np.pi,100)\n",
        "y1=np.sin(x)\n",
        "y2=np.sin(x)+np.cos(x)"
      ],
      "metadata": {
        "id": "GV67wC5iFxuw"
      },
      "execution_count": null,
      "outputs": []
    },
    {
      "cell_type": "code",
      "source": [
        "plt.plot(x,y1,x,y2)\n",
        "\n",
        "plt.xticks([0,np.pi,2*np.pi])\n",
        "plt.yticks([-1,0,+1])\n",
        "\n",
        "plt.xlabel('x')\n",
        "plt.ylabel('y')\n",
        "plt.title('T.F')\n",
        "plt.legend(['sin(x)','sin(x)+cos(x)'])\n",
        "plt.show()"
      ],
      "metadata": {
        "colab": {
          "base_uri": "https://localhost:8080/",
          "height": 294
        },
        "id": "8M1nvX9lYO5I",
        "outputId": "4b43fcb9-a9bc-491b-b0bf-48c85059de64"
      },
      "execution_count": null,
      "outputs": [
        {
          "output_type": "display_data",
          "data": {
            "text/plain": [
              "<Figure size 432x288 with 1 Axes>"
            ],
            "image/png": "[encoded data removed]"
          },
          "metadata": {
            "needs_background": "light"
          }
        }
      ]
    },
    {
      "cell_type": "code",
      "source": [
        "x=np.linspace(0,2*np.pi,10)\n",
        "y1=np.sin(x)\n",
        "y2=np.sin(x)+np.cos(x)"
      ],
      "metadata": {
        "id": "pB61QLgkY0ug"
      },
      "execution_count": null,
      "outputs": []
    },
    {
      "cell_type": "code",
      "source": [
        "plt.plot(x,y1,'mo--',x,y2,'cs-.')\n",
        "\n",
        "plt.xticks([0,np.pi,2*np.pi])\n",
        "plt.yticks([-1,0,+1])\n",
        "\n",
        "plt.xlabel('xx')\n",
        "plt.ylabel('yy')\n",
        "plt.title('Two Function')\n",
        "plt.legend(['sin(x)','sin(x)+cos(x)'])\n",
        "plt.show()"
      ],
      "metadata": {
        "colab": {
          "base_uri": "https://localhost:8080/",
          "height": 294
        },
        "id": "hv37yhVeZls5",
        "outputId": "ec14ced1-d7d4-4a20-ea3a-6b02e4db4e3a"
      },
      "execution_count": null,
      "outputs": [
        {
          "output_type": "display_data",
          "data": {
            "text/plain": [
              "<Figure size 432x288 with 1 Axes>"
            ],
            "image/png": "[encoded data removed]"
          },
          "metadata": {
            "needs_background": "light"
          }
        }
      ]
    },
    {
      "cell_type": "code",
      "source": [
        "x=np.linspace(1,6,6)\n",
        "y=np.array([7,9,5,1,4,2])"
      ],
      "metadata": {
        "id": "RoQm7zbOa_kf"
      },
      "execution_count": null,
      "outputs": []
    },
    {
      "cell_type": "code",
      "source": [
        "plt.bar(x,y)\n",
        "plt.xlabel('xaxis')\n",
        "plt.ylabel('yaxis')\n",
        "plt.title('BAR')\n",
        "plt.show()"
      ],
      "metadata": {
        "colab": {
          "base_uri": "https://localhost:8080/",
          "height": 294
        },
        "id": "8x5X_jjicW_L",
        "outputId": "865f0e4d-2d1c-4a90-f084-414168db7797"
      },
      "execution_count": null,
      "outputs": [
        {
          "output_type": "display_data",
          "data": {
            "text/plain": [
              "<Figure size 432x288 with 1 Axes>"
            ],
            "image/png": "[encoded data removed]"
          },
          "metadata": {
            "needs_background": "light"
          }
        }
      ]
    },
    {
      "cell_type": "code",
      "source": [
        "import math\n",
        "math.pi"
      ],
      "metadata": {
        "id": "Hh3YFVJacpHh",
        "colab": {
          "base_uri": "https://localhost:8080/"
        },
        "outputId": "0b6585a3-dc38-4deb-ba44-4e3f1520ad32"
      },
      "execution_count": null,
      "outputs": [
        {
          "output_type": "execute_result",
          "data": {
            "text/plain": [
              "3.141592653589793"
            ]
          },
          "metadata": {},
          "execution_count": 217
        }
      ]
    },
    {
      "cell_type": "code",
      "source": [
        "import math\n",
        "math.e"
      ],
      "metadata": {
        "colab": {
          "base_uri": "https://localhost:8080/"
        },
        "id": "SLqJFxz3v1Ao",
        "outputId": "655f4279-6ac3-4ffa-a320-414646ae0027"
      },
      "execution_count": null,
      "outputs": [
        {
          "output_type": "execute_result",
          "data": {
            "text/plain": [
              "2.718281828459045"
            ]
          },
          "metadata": {},
          "execution_count": 218
        }
      ]
    },
    {
      "cell_type": "code",
      "source": [
        "import math\n",
        "math.factorial(7)"
      ],
      "metadata": {
        "colab": {
          "base_uri": "https://localhost:8080/"
        },
        "id": "dXsEwoQNv4bz",
        "outputId": "2c056405-afdc-4b6c-9802-b6f795b5a23b"
      },
      "execution_count": null,
      "outputs": [
        {
          "output_type": "execute_result",
          "data": {
            "text/plain": [
              "5040"
            ]
          },
          "metadata": {},
          "execution_count": 219
        }
      ]
    },
    {
      "cell_type": "code",
      "source": [
        "import math\n",
        "math.pow(3,5)"
      ],
      "metadata": {
        "colab": {
          "base_uri": "https://localhost:8080/"
        },
        "id": "ch9f_Z2qwMPc",
        "outputId": "2124c067-ea22-46f8-cd0d-628cdd9732fb"
      },
      "execution_count": null,
      "outputs": [
        {
          "output_type": "execute_result",
          "data": {
            "text/plain": [
              "243.0"
            ]
          },
          "metadata": {},
          "execution_count": 220
        }
      ]
    },
    {
      "cell_type": "code",
      "source": [
        "import math\n",
        "math.log(2)"
      ],
      "metadata": {
        "colab": {
          "base_uri": "https://localhost:8080/"
        },
        "id": "RElqwmVFwZZF",
        "outputId": "962cd40f-c3c1-46ae-b003-b39ff8b39f42"
      },
      "execution_count": null,
      "outputs": [
        {
          "output_type": "execute_result",
          "data": {
            "text/plain": [
              "0.6931471805599453"
            ]
          },
          "metadata": {},
          "execution_count": 221
        }
      ]
    },
    {
      "cell_type": "code",
      "source": [
        "import math\n",
        "math.log(4,2)"
      ],
      "metadata": {
        "colab": {
          "base_uri": "https://localhost:8080/"
        },
        "id": "fUdtXTbWwgmM",
        "outputId": "071143b5-34bd-4b30-9d34-b320d88c31b4"
      },
      "execution_count": null,
      "outputs": [
        {
          "output_type": "execute_result",
          "data": {
            "text/plain": [
              "2.0"
            ]
          },
          "metadata": {},
          "execution_count": 222
        }
      ]
    },
    {
      "cell_type": "code",
      "source": [
        "import math\n",
        "math.log(10)"
      ],
      "metadata": {
        "colab": {
          "base_uri": "https://localhost:8080/"
        },
        "id": "XBsDW5KLwocs",
        "outputId": "8968b473-4157-4aea-b214-6a385ef1c8a0"
      },
      "execution_count": null,
      "outputs": [
        {
          "output_type": "execute_result",
          "data": {
            "text/plain": [
              "2.302585092994046"
            ]
          },
          "metadata": {},
          "execution_count": 223
        }
      ]
    },
    {
      "cell_type": "code",
      "source": [
        "# math.acos(x) - 아크코사인\n",
        "# math.asin(x) - 아크사인\n",
        "# math.atan(x) - 아크탄젠트\n",
        "# math.atan2(x,y) - y/x 아크탄젠트\n",
        "# math.cos(x) - 코사인\n",
        "# math.sin(x) - 사인\n",
        "# math.tan(x) - 탄젠트"
      ],
      "metadata": {
        "id": "FSM6sQkIqkXP"
      },
      "execution_count": null,
      "outputs": []
    },
    {
      "cell_type": "code",
      "source": [
        "import math\n",
        "math.degrees\n",
        "# 각도 변환 - radian에서 degree로 변환"
      ],
      "metadata": {
        "colab": {
          "base_uri": "https://localhost:8080/"
        },
        "id": "Zp8ad2w1uFzP",
        "outputId": "2596180f-96f9-4025-9b9a-799605e22781"
      },
      "execution_count": null,
      "outputs": [
        {
          "output_type": "execute_result",
          "data": {
            "text/plain": [
              "<function math.degrees>"
            ]
          },
          "metadata": {},
          "execution_count": 225
        }
      ]
    },
    {
      "cell_type": "code",
      "source": [
        "import math\n",
        "math.radians\n",
        "# 각도 변환 - degree에서 radian으로 변환"
      ],
      "metadata": {
        "colab": {
          "base_uri": "https://localhost:8080/"
        },
        "id": "1pn1UtG4wVWJ",
        "outputId": "98c38f8d-a065-4eeb-c905-a0afdd3875ba"
      },
      "execution_count": null,
      "outputs": [
        {
          "output_type": "execute_result",
          "data": {
            "text/plain": [
              "<function math.radians>"
            ]
          },
          "metadata": {},
          "execution_count": 226
        }
      ]
    },
    {
      "cell_type": "code",
      "source": [
        "# 5주차 강의 - 3강\n",
        "def func(n):\n",
        "  lv=n*2\n",
        "  print(lv)\n",
        "\n",
        "func(12)\n",
        "# 지역변수\n",
        "# 함수가 끝나면 지역변수(lv)를 출력하지 못함"
      ],
      "metadata": {
        "colab": {
          "base_uri": "https://localhost:8080/"
        },
        "id": "lj3-8hxTwcLg",
        "outputId": "85869d7e-7e03-4245-92f1-23913ccaf117"
      },
      "execution_count": null,
      "outputs": [
        {
          "output_type": "stream",
          "name": "stdout",
          "text": [
            "24\n"
          ]
        }
      ]
    },
    {
      "cell_type": "code",
      "source": [
        "n=7\n",
        "\n",
        "def func2():\n",
        "  lv=n+2\n",
        "  print(lv)\n",
        "\n",
        "func2()\n",
        "# 전역변수"
      ],
      "metadata": {
        "colab": {
          "base_uri": "https://localhost:8080/"
        },
        "id": "6nnUVKaLGqOg",
        "outputId": "f175c3fe-6bbd-4401-f4d9-bacde5576416"
      },
      "execution_count": null,
      "outputs": [
        {
          "output_type": "stream",
          "name": "stdout",
          "text": [
            "9\n"
          ]
        }
      ]
    },
    {
      "cell_type": "code",
      "source": [
        "print(n)\n",
        "# 전역변수(n)는 함수가 끝나도 다시 출력할 수 있음"
      ],
      "metadata": {
        "colab": {
          "base_uri": "https://localhost:8080/"
        },
        "id": "kbgKKX83HlpQ",
        "outputId": "737ce49f-c501-4b1d-f078-373814d51da0"
      },
      "execution_count": null,
      "outputs": [
        {
          "output_type": "stream",
          "name": "stdout",
          "text": [
            "7\n"
          ]
        }
      ]
    },
    {
      "cell_type": "code",
      "source": [
        "n=10\n",
        "\n",
        "def func2():\n",
        "  n=0\n",
        "  lv=n+2\n",
        "  print(lv)\n",
        "\n",
        "func2()\n",
        "# 함수 안에서는 n=0으로 실행됨 \n",
        "# func2() 함수 안에 있는 n은 지역변수"
      ],
      "metadata": {
        "colab": {
          "base_uri": "https://localhost:8080/"
        },
        "id": "dxZrNOJsHvZY",
        "outputId": "34432b3d-d6ee-4ed9-f747-64b6d4ea3f29"
      },
      "execution_count": null,
      "outputs": [
        {
          "output_type": "stream",
          "name": "stdout",
          "text": [
            "2\n"
          ]
        }
      ]
    },
    {
      "cell_type": "code",
      "source": [
        "print(n)\n",
        "# 함수 밖에서는 n=10으로 실행됨\n",
        "# func2() 함수 밖에 있는 n은 전역변수"
      ],
      "metadata": {
        "colab": {
          "base_uri": "https://localhost:8080/"
        },
        "id": "LtYId08RIbRo",
        "outputId": "c32c3ed6-ae52-4102-f35d-c9e63e0e7b8f"
      },
      "execution_count": null,
      "outputs": [
        {
          "output_type": "stream",
          "name": "stdout",
          "text": [
            "10\n"
          ]
        }
      ]
    },
    {
      "cell_type": "code",
      "source": [
        "n=1\n",
        "\n",
        "def func2():\n",
        "  global n\n",
        "  n=9\n",
        "  lv=n+1\n",
        "  print(lv)\n",
        "\n",
        "func2()\n",
        "# 함수 밖에 있는 변수 n을 global을 이용해 func2() 함수 안으로 갖고온 것\n",
        "# 다시 함수 안에서 변수 n을 재정의한 것"
      ],
      "metadata": {
        "colab": {
          "base_uri": "https://localhost:8080/"
        },
        "id": "Lu_C8z66IdHo",
        "outputId": "7c893111-5b07-468f-dda5-22c3fa00be0d"
      },
      "execution_count": null,
      "outputs": [
        {
          "output_type": "stream",
          "name": "stdout",
          "text": [
            "10\n"
          ]
        }
      ]
    },
    {
      "cell_type": "code",
      "source": [
        "print(n)\n",
        "# 변수 n을 9로 재정의했기 때문에 9로 출력됨"
      ],
      "metadata": {
        "colab": {
          "base_uri": "https://localhost:8080/"
        },
        "id": "i0Ldz1b3KD0i",
        "outputId": "c1558897-379e-40c4-cd0e-486f3acecd1c"
      },
      "execution_count": null,
      "outputs": [
        {
          "output_type": "stream",
          "name": "stdout",
          "text": [
            "9\n"
          ]
        }
      ]
    },
    {
      "cell_type": "code",
      "source": [
        "fa_age=50\n",
        "def up_fa_age():\n",
        "  global fa_age\n",
        "  fa_age+=1\n",
        "\n",
        "def get_fa_age():\n",
        "  return fa_age\n",
        "\n",
        "print('2022년')\n",
        "print('아빠:',get_fa_age())\n",
        "print('2023년')\n",
        "\n",
        "up_fa_age()\n",
        "\n",
        "print('아빠:',get_fa_age())"
      ],
      "metadata": {
        "colab": {
          "base_uri": "https://localhost:8080/"
        },
        "id": "B33KFPZNKFTB",
        "outputId": "89bf8a8c-de1b-46e7-cc63-f001d8f889d8"
      },
      "execution_count": null,
      "outputs": [
        {
          "output_type": "stream",
          "name": "stdout",
          "text": [
            "2022년\n",
            "아빠: 50\n",
            "2023년\n",
            "아빠: 51\n"
          ]
        }
      ]
    },
    {
      "cell_type": "code",
      "source": [
        "class Ageinfo:\n",
        "  def up_age(self):\n",
        "    self.age+=1\n",
        "  def get_age(self):\n",
        "    return self.age"
      ],
      "metadata": {
        "id": "cWWVYIvQPHP8"
      },
      "execution_count": null,
      "outputs": []
    },
    {
      "cell_type": "code",
      "source": [
        "fa=Ageinfo()\n",
        "fa.age=60\n",
        "\n",
        "print(\"아빠의 나이:\",fa.get_age())\n",
        "print(\"1년 뒤...\")\n",
        "\n",
        "fa.up_age()\n",
        "\n",
        "print(\"아빠의 나이:\",fa.get_age())"
      ],
      "metadata": {
        "colab": {
          "base_uri": "https://localhost:8080/"
        },
        "id": "hb4sX6QRQbwJ",
        "outputId": "fd6bd15d-e9d6-4bd7-cbe5-be62c5a944c4"
      },
      "execution_count": null,
      "outputs": [
        {
          "output_type": "stream",
          "name": "stdout",
          "text": [
            "아빠의 나이: 60\n",
            "1년 뒤...\n",
            "아빠의 나이: 61\n"
          ]
        }
      ]
    },
    {
      "cell_type": "code",
      "source": [
        "class Ageinfo:\n",
        "  def up_age(self):\n",
        "    self.age+=1\n",
        "  def get_age(self):\n",
        "    return self.age"
      ],
      "metadata": {
        "id": "K5vaNRNRRPCo"
      },
      "execution_count": null,
      "outputs": []
    },
    {
      "cell_type": "code",
      "source": [
        "fa=Ageinfo()\n",
        "mo=Ageinfo()\n",
        "me=Ageinfo()\n",
        "\n",
        "fa.age=55\n",
        "mo.age=50\n",
        "me.age=20\n",
        "\n",
        "print(\"아빠의 나이:\",fa.get_age())\n",
        "print(\"엄마의 나이:\",mo.get_age())\n",
        "print(\"나의 나이:\",me.get_age())\n",
        "print(\"1년 뒤...\")\n",
        "\n",
        "Ageinfo.up_age(fa)\n",
        "Ageinfo.up_age(mo)\n",
        "Ageinfo.up_age(me)\n",
        "\n",
        "print(\"아빠의 나이:\",fa.get_age())\n",
        "print(\"엄마의 나이:\",mo.get_age())\n",
        "print(\"나의 나이:\",me.get_age())"
      ],
      "metadata": {
        "colab": {
          "base_uri": "https://localhost:8080/"
        },
        "id": "x1ggG1hjRr4Y",
        "outputId": "d4b3e782-6994-4484-f8d9-08c0dcfba483"
      },
      "execution_count": null,
      "outputs": [
        {
          "output_type": "stream",
          "name": "stdout",
          "text": [
            "아빠의 나이: 55\n",
            "엄마의 나이: 50\n",
            "나의 나이: 20\n",
            "1년 뒤...\n",
            "아빠의 나이: 56\n",
            "엄마의 나이: 51\n",
            "나의 나이: 21\n"
          ]
        }
      ]
    },
    {
      "cell_type": "code",
      "source": [
        "# 예제\n",
        "import math\n",
        "import matplotlib.pyplot as plt"
      ],
      "metadata": {
        "id": "-2T9r-smTE7Q"
      },
      "execution_count": null,
      "outputs": []
    },
    {
      "cell_type": "code",
      "source": [
        "class sin_graph:\n",
        "  def generate_x_y(self):\n",
        "    self.x=[]\n",
        "    self.y=[]\n",
        "    self.dx=(self.end-self.st)/(self.n-1)\n",
        "    for i in range(self.n):\n",
        "      x_=self.st+self.dx*i\n",
        "      self.x.append(x_)\n",
        "      self.y.append(math.sin(x_))\n",
        "  def plot(self):\n",
        "    plt.plot(self.x,self.y)\n",
        "    plt.show()"
      ],
      "metadata": {
        "id": "0a-K0DGBYBW0"
      },
      "execution_count": null,
      "outputs": []
    },
    {
      "cell_type": "code",
      "source": [
        "g1=sin_graph()\n",
        "g1.st=0\n",
        "g1.end=2*math.pi\n",
        "g1.n=10\n",
        "\n",
        "g1.generate_x_y()\n",
        "g1.plot()"
      ],
      "metadata": {
        "colab": {
          "base_uri": "https://localhost:8080/",
          "height": 264
        },
        "id": "KEGuqjxxZN6A",
        "outputId": "10753cf8-4317-47eb-8c62-b8f960249c2c"
      },
      "execution_count": null,
      "outputs": [
        {
          "output_type": "display_data",
          "data": {
            "text/plain": [
              "<Figure size 432x288 with 1 Axes>"
            ],
            "image/png": "[encoded data removed]"
          },
          "metadata": {
            "needs_background": "light"
          }
        }
      ]
    },
    {
      "cell_type": "code",
      "source": [
        "# 예제\n",
        "import math\n",
        "import matplotlib.pyplot as plt"
      ],
      "metadata": {
        "id": "iMPQkDsVcbcI"
      },
      "execution_count": null,
      "outputs": []
    },
    {
      "cell_type": "code",
      "source": [
        "class sin_graph:\n",
        "  def setting(self,st,end,n):\n",
        "    self.st=st\n",
        "    self.end=end\n",
        "    self.n=n\n",
        "  def generate_x_y(self):\n",
        "    self.x=[]\n",
        "    self.y=[]\n",
        "    self.dx=(self.end-self.st)/(self.n-1)\n",
        "    for i in range(self.n):\n",
        "      x_=self.st+self.dx*i\n",
        "      self.x.append(x_)\n",
        "      self.y.append(math.sin(x_))\n",
        "  def plot(self):\n",
        "    plt.plot(self.x,self.y)\n",
        "    plt.show()"
      ],
      "metadata": {
        "id": "jLGOod-Nc0J2"
      },
      "execution_count": null,
      "outputs": []
    },
    {
      "cell_type": "code",
      "source": [
        "g1=sin_graph()\n",
        "g1.setting(0,2*math.pi,100)\n",
        "g1.generate_x_y()\n",
        "g1.plot()"
      ],
      "metadata": {
        "colab": {
          "base_uri": "https://localhost:8080/",
          "height": 264
        },
        "id": "I9H6iYIddXK_",
        "outputId": "c6f42e62-8e50-4203-f834-7a828359e186"
      },
      "execution_count": null,
      "outputs": [
        {
          "output_type": "display_data",
          "data": {
            "text/plain": [
              "<Figure size 432x288 with 1 Axes>"
            ],
            "image/png": "[encoded data removed]"
          },
          "metadata": {
            "needs_background": "light"
          }
        }
      ]
    },
    {
      "cell_type": "code",
      "source": [
        "g2=sin_graph()\n",
        "g2.setting(0,4*math.pi,100)\n",
        "g2.generate_x_y()\n",
        "g2.plot()"
      ],
      "metadata": {
        "colab": {
          "base_uri": "https://localhost:8080/",
          "height": 264
        },
        "id": "Wd2wN9u-driB",
        "outputId": "eeb61a9f-25a5-43b3-9947-f9585a1018c7"
      },
      "execution_count": null,
      "outputs": [
        {
          "output_type": "display_data",
          "data": {
            "text/plain": [
              "<Figure size 432x288 with 1 Axes>"
            ],
            "image/png": "[encoded data removed]"
          },
          "metadata": {
            "needs_background": "light"
          }
        }
      ]
    },
    {
      "cell_type": "code",
      "source": [
        "# 연습문제 - cos함수\n",
        "import math\n",
        "import matplotlib.pyplot as plt"
      ],
      "metadata": {
        "id": "zZMVSuDOflE4"
      },
      "execution_count": null,
      "outputs": []
    },
    {
      "cell_type": "code",
      "source": [
        "class cos_graph:\n",
        "  def setting(self,st,end,n):\n",
        "    self.st=st\n",
        "    self.end=end\n",
        "    self.n=n\n",
        "  def generate_x_y(self):\n",
        "    self.x=[]\n",
        "    self.y=[]\n",
        "    self.dx=(self.end-self.st)/(self.n-1)\n",
        "    for i in range(self.n):\n",
        "      x_=self.st+self.dx*i\n",
        "      self.x.append(x_)\n",
        "      self.y.append(math.cos(x_))\n",
        "  def plot(self):\n",
        "    plt.plot(self.x,self.y)\n",
        "    plt.show()"
      ],
      "metadata": {
        "id": "4-GCrheQf9Mp"
      },
      "execution_count": null,
      "outputs": []
    },
    {
      "cell_type": "code",
      "source": [
        "g1=cos_graph()\n",
        "g1.setting(0,4*math.pi,100)\n",
        "g1.generate_x_y()\n",
        "g1.plot()"
      ],
      "metadata": {
        "colab": {
          "base_uri": "https://localhost:8080/",
          "height": 264
        },
        "id": "9Kvdqt1ZgDSj",
        "outputId": "9130224d-fd17-4420-bd2d-77dc6a4fe603"
      },
      "execution_count": null,
      "outputs": [
        {
          "output_type": "display_data",
          "data": {
            "text/plain": [
              "<Figure size 432x288 with 1 Axes>"
            ],
            "image/png": "[encoded data removed]"
          },
          "metadata": {
            "needs_background": "light"
          }
        }
      ]
    },
    {
      "cell_type": "code",
      "source": [
        "class Const:\n",
        "  def __init__(self):\n",
        "    print(\"new~\")\n",
        "\n",
        "o1=Const()\n",
        "o2=Const()\n",
        "# print(\"new~\")처럼 new~가 실행됨"
      ],
      "metadata": {
        "colab": {
          "base_uri": "https://localhost:8080/"
        },
        "id": "mJnqS5WRhvCh",
        "outputId": "11a37dbc-82b3-4cd2-b2d9-31bfc6d7afee"
      },
      "execution_count": null,
      "outputs": [
        {
          "output_type": "stream",
          "name": "stdout",
          "text": [
            "new~\n",
            "new~\n"
          ]
        }
      ]
    },
    {
      "cell_type": "code",
      "source": [
        "class Const:\n",
        "  def __init__(self,n1,n2):\n",
        "    self.n1=n1\n",
        "    self.n2=n2\n",
        "  \n",
        "  def show_data(self):\n",
        "    print(self.n1,self.n2)\n",
        "\n",
        "o1=Const(1,4)\n",
        "o2=Const(2,3)"
      ],
      "metadata": {
        "id": "S98sSQ14klJi"
      },
      "execution_count": null,
      "outputs": []
    },
    {
      "cell_type": "code",
      "source": [
        "o1.show_data()\n",
        "o2.show_data()"
      ],
      "metadata": {
        "colab": {
          "base_uri": "https://localhost:8080/"
        },
        "id": "V4VShtIpnglb",
        "outputId": "6aceed57-047c-446b-8d18-e2452970119b"
      },
      "execution_count": null,
      "outputs": [
        {
          "output_type": "stream",
          "name": "stdout",
          "text": [
            "1 4\n",
            "2 3\n"
          ]
        }
      ]
    },
    {
      "cell_type": "code",
      "source": [
        "# 실습문제\n",
        "from google.colab import files\n",
        "uploaded = files.upload()"
      ],
      "metadata": {
        "colab": {
          "resources": {
            "http://localhost:8080/nbextensions/google.colab/files.js": {
              "data": "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",
              "ok": true,
              "headers": [
                [
                  "content-type",
                  "application/javascript"
                ]
              ],
              "status": 200,
              "status_text": ""
            }
          },
          "base_uri": "https://localhost:8080/",
          "height": 76
        },
        "id": "O1ZDlgN4DnJ9",
        "outputId": "a29c1240-8adf-4c9e-b8f7-373c9484e138"
      },
      "execution_count": null,
      "outputs": [
        {
          "output_type": "display_data",
          "data": {
            "text/plain": [
              "<IPython.core.display.HTML object>"
            ],
            "text/html": [
              "\n",
              "     <input type=\"file\" id=\"files-bc92b966-c21c-403c-ae49-b847deac7cbc\" name=\"files[]\" multiple disabled\n",
              "        style=\"border:none\" />\n",
              "     <output id=\"result-bc92b966-c21c-403c-ae49-b847deac7cbc\">\n",
              "      Upload widget is only available when the cell has been executed in the\n",
              "      current browser session. Please rerun this cell to enable.\n",
              "      </output>\n",
              "      <script src=\"/nbextensions/google.colab/files.js\"></script> "
            ]
          },
          "metadata": {}
        },
        {
          "output_type": "stream",
          "name": "stdout",
          "text": [
            "Saving I_have_a_dream.txt to I_have_a_dream (1).txt\n"
          ]
        }
      ]
    },
    {
      "cell_type": "code",
      "source": [
        "class text_static:\n",
        "  def processLine(self,line,wordCounts):\n",
        "    line=self.replacePunctuations(line)\n",
        "    words=line.split()\n",
        "    for word in words:\n",
        "      if word in wordCounts:\n",
        "        wordCounts[word]+=1\n",
        "      else:\n",
        "        wordCounts[word]=1\n",
        "  \n",
        "  def replacePunctuations(self,line):\n",
        "    for ch in line:\n",
        "      if ch in \".,;:\":\n",
        "        line=line.replace(ch,\"\")\n",
        "    return line\n",
        " \n",
        "  def wordCount(self,f):\n",
        "    f=open(filename,\"r\")\n",
        "    lines=f.readlines()\n",
        "    wordCounts={}\n",
        "    for line in lines:\n",
        "      self.processLine(line.lower(),wordCounts)\n",
        "    return wordCounts\n",
        " # 힌트에는 for line in f: 였지만 for line in lines: 으로 바꿔야함\n",
        " # f로 하면 파일을 열기만 한 것이지만 lines로 하면 파일 안의 글자를 셀 수 있음\n",
        "\n",
        "  def arrange_pairs(self,wordCounts):\n",
        "    pairs=list(wordCounts.items())\n",
        "    items=[[x,y] for (y,x)in pairs]\n",
        "    items.sort()\n",
        "    items={x:y for [y,x]in items}\n",
        "    return items"
      ],
      "metadata": {
        "id": "MWLCgGgbDm7b"
      },
      "execution_count": null,
      "outputs": []
    },
    {
      "cell_type": "code",
      "source": [
        "t=text_static()\n",
        "\n",
        "filename=\"I_have_a_dream.txt\"\n",
        "wordCounts=t.wordCount(filename)\n",
        "items=t.arrange_pairs(wordCounts)\n",
        "\n",
        "print(wordCounts)\n",
        "# 단어 개수\n",
        "print(items)\n",
        "# 알파벳 순서로 적은 숫자부터 큰 숫자로 나타냄"
      ],
      "metadata": {
        "colab": {
          "base_uri": "https://localhost:8080/"
        },
        "id": "aDo0-qCmD2sz",
        "outputId": "fdd2120d-b561-4f23-a703-b85a375eebee"
      },
      "execution_count": null,
      "outputs": [
        {
          "output_type": "stream",
          "name": "stdout",
          "text": [
            "{'i': 2, 'am': 1, 'happy': 1, 'to': 35, 'join': 1, 'with': 4, 'you': 2, 'today': 5, 'in': 16, 'what': 1, 'will': 9, 'go': 1, 'down': 2, 'history': 2, 'as': 19, 'the': 66, 'greatest': 1, 'demonstration': 1, 'for': 6, 'freedom': 6, 'of': 56, 'our': 14, 'nation': 6, 'five': 1, 'score': 1, 'years': 5, 'ago': 1, 'a': 22, 'great': 3, 'american': 3, 'whose': 1, 'symbolic': 1, 'shadow': 1, 'we': 19, 'stand': 2, 'signed': 1, 'emancipation': 1, 'proclamation': 1, 'this': 9, 'momentous': 1, 'decree': 1, 'came': 2, 'beacon': 1, 'light': 1, 'hope': 2, 'millions': 1, 'negro': 12, 'slaves': 1, 'who': 4, 'had': 1, 'been': 1, 'seared': 1, 'flames': 1, 'withering': 1, 'injustice': 2, 'it': 3, 'joyous': 1, 'daybreak': 1, 'end': 2, 'long': 6, 'night': 1, 'their': 6, 'captivity': 1, 'but': 4, 'one': 5, 'hundred': 4, 'later': 4, 'still': 3, 'is': 18, 'not': 9, 'free': 1, 'life': 1, 'sadly': 1, 'crippled': 1, 'by': 4, 'manacles': 1, 'segregation': 2, 'and': 22, 'chains': 1, 'discrimination': 1, 'lives': 1, 'on': 4, 'lonely': 1, 'island': 1, 'poverty': 1, 'midst': 1, 'vast': 1, 'ocean': 1, 'material': 1, 'prosperity': 1, 'languished': 1, 'corners': 1, 'society': 1, 'finds': 1, 'himself': 1, 'an': 3, 'exile': 1, 'his': 2, 'own': 1, 'land': 1, 'so': 2, \"we've\": 3, 'come': 7, 'here': 2, 'dramatize': 1, 'shameful': 1, 'condition': 1, 'sense': 1, \"nation's\": 1, 'capital': 1, 'cash': 2, 'check': 5, 'when': 1, 'architects': 1, 'republic': 1, 'wrote': 1, 'magnificent': 1, 'words': 1, 'constitution': 1, 'declaration': 1, 'independence': 1, 'they': 2, 'were': 1, 'signing': 1, 'promissory': 2, 'note': 3, 'which': 5, 'every': 1, 'was': 2, 'fall': 1, 'heir': 1, 'promise': 1, 'that': 10, 'all': 3, 'men': 3, 'yes': 1, 'black': 1, 'well': 1, 'white': 3, 'would': 2, 'be': 12, 'guaranteed': 1, '\"unalienable': 1, 'rights\"': 1, '\"life': 1, 'liberty': 1, 'pursuit': 1, 'happiness\"': 1, 'obvious': 1, 'america': 4, 'has': 5, 'defaulted': 1, 'insofar': 1, 'her': 1, 'citizens': 1, 'color': 1, 'are': 6, 'concerned': 1, 'instead': 1, 'honoring': 1, 'sacred': 1, 'obligation': 1, 'given': 1, 'people': 3, 'bad': 1, 'back': 2, 'marked': 1, '\"insufficient': 1, 'funds\"': 1, 'refuse': 2, 'believe': 2, 'bank': 1, 'justice': 6, 'bankrupt': 1, 'there': 5, 'insufficient': 1, 'funds': 1, 'vaults': 1, 'opportunity': 1, 'give': 1, 'us': 3, 'upon': 1, 'demand': 1, 'riches': 1, 'security': 1, 'have': 4, 'also': 1, 'hallowed': 1, 'spot': 1, 'remind': 1, 'fierce': 1, 'urgency': 2, 'now': 6, 'no': 3, 'time': 5, 'engage': 1, 'luxury': 1, 'cooling': 1, 'off': 2, 'or': 1, 'take': 1, 'tranquilizing': 1, 'drug': 1, 'gradualism': 1, 'make': 3, 'real': 1, 'promises': 1, 'democracy': 1, 'rise': 2, 'from': 4, 'dark': 1, 'desolate': 1, 'valley': 1, 'sunlit': 1, 'path': 1, 'racial': 2, 'lift': 1, 'quicksands': 1, 'solid': 1, 'rock': 1, 'brotherhood': 1, 'reality': 1, \"god's\": 1, 'children': 2, 'fatal': 1, 'overlook': 1, 'moment': 1, 'sweltering': 1, 'summer': 1, \"negro's\": 2, 'legitimate': 1, 'discontent': 1, 'pass': 1, 'until': 4, 'invigorating': 1, 'autumn': 1, 'equality': 1, 'nineteen': 1, 'sixty-three': 1, 'beginning': 1, 'those': 2, 'needed': 1, 'blow': 1, 'steam': 1, 'content': 1, 'rude': 1, 'awakening': 1, 'if': 1, 'returns': 1, 'business': 1, 'usual': 1, 'neither': 1, 'rest': 1, 'nor': 1, 'tranquility': 1, 'granted': 1, 'citizenship': 1, 'rights': 2, 'whirlwinds': 1, 'revolt': 1, 'continue': 1, 'shake': 1, 'foundations': 1, 'bright': 1, 'day': 1, 'emerges': 1, 'something': 1, 'must': 7, 'say': 1, 'my': 1, 'warm': 1, 'threshold': 1, 'leads': 1, 'into': 2, 'palace': 1, 'process': 1, 'gaining': 1, 'rightful': 1, 'place': 1, 'guilty': 1, 'wrongful': 1, 'deeds': 1, 'let': 1, 'seek': 1, 'satisfy': 1, 'thirst': 1, 'drinking': 1, 'cup': 1, 'bitterness': 1, 'hatred': 1, 'forever': 1, 'conduct': 1, 'struggle': 1, 'high': 1, 'plane': 1, 'dignity': 2, 'discipline': 1, 'allow': 1, 'creative': 1, 'protest': 1, 'degenerate': 1, 'physical': 2, 'violence': 1, 'again': 2, 'majestic': 1, 'heights': 1, 'meeting': 1, 'force': 2, 'soul': 1, 'marvelous': 1, 'new': 2, 'militancy': 1, 'engulfed': 1, 'community': 1, 'lead': 1, 'distrust': 1, 'many': 1, 'brothers': 1, 'evidenced': 1, 'presence': 1, 'realize': 2, 'destiny': 2, 'tied': 1, 'up': 1, 'inextricably': 1, 'bound': 1, 'cannot': 6, 'walk': 2, 'alone': 1, 'pledge': 1, 'shall': 1, 'always': 1, 'march': 1, 'ahead': 1, 'turn': 1, 'asking': 1, 'devotees': 1, 'civil': 1, '\"when': 1, 'satisfied?\"': 1, 'can': 3, 'never': 3, 'satisfied': 7, 'victim': 1, 'unspeakable': 1, 'horrors': 1, 'police': 1, 'brutality': 1, 'bodies': 1, 'heavy': 1, 'fatigue': 1, 'travel': 1, 'gain': 1, 'lodging': 1, 'motels': 1, 'highways': 1, 'hotels': 1, 'cities': 1, '**we': 1, 'basic': 1, 'mobility': 1, 'smaller': 1, 'ghetto': 1, 'larger': 1, 'stripped': 1, 'self-hood': 1, 'robbed': 1, 'signs': 1, 'stating': 1, '\"for': 1, 'whites': 1, 'only\"**': 1, 'mississippi': 1, 'vote': 2, 'york': 1, 'believes': 1, 'he': 1, 'nothing': 1, '\"justice': 1, 'rolls': 1, 'like': 2, 'waters': 1, 'righteousness': 1, 'mighty': 1, 'stream\"1': 1}\n",
            "{'\"for': 1, '\"insufficient': 1, '\"justice': 1, '\"life': 1, '\"unalienable': 1, '\"when': 1, '**we': 1, 'ago': 1, 'ahead': 1, 'allow': 1, 'alone': 1, 'also': 1, 'always': 1, 'am': 1, 'architects': 1, 'asking': 1, 'autumn': 1, 'awakening': 1, 'bad': 1, 'bank': 1, 'bankrupt': 1, 'basic': 1, 'beacon': 1, 'been': 1, 'beginning': 1, 'believes': 1, 'bitterness': 1, 'black': 1, 'blow': 1, 'bodies': 1, 'bound': 1, 'bright': 1, 'brotherhood': 1, 'brothers': 1, 'brutality': 1, 'business': 1, 'capital': 1, 'captivity': 1, 'chains': 1, 'cities': 1, 'citizens': 1, 'citizenship': 1, 'civil': 1, 'color': 1, 'community': 1, 'concerned': 1, 'condition': 1, 'conduct': 1, 'constitution': 1, 'content': 1, 'continue': 1, 'cooling': 1, 'corners': 1, 'creative': 1, 'crippled': 1, 'cup': 1, 'dark': 1, 'day': 1, 'daybreak': 1, 'declaration': 1, 'decree': 1, 'deeds': 1, 'defaulted': 1, 'degenerate': 1, 'demand': 1, 'democracy': 1, 'demonstration': 1, 'desolate': 1, 'devotees': 1, 'discipline': 1, 'discontent': 1, 'discrimination': 1, 'distrust': 1, 'dramatize': 1, 'drinking': 1, 'drug': 1, 'emancipation': 1, 'emerges': 1, 'engage': 1, 'engulfed': 1, 'equality': 1, 'every': 1, 'evidenced': 1, 'exile': 1, 'fall': 1, 'fatal': 1, 'fatigue': 1, 'fierce': 1, 'finds': 1, 'five': 1, 'flames': 1, 'forever': 1, 'foundations': 1, 'free': 1, 'funds': 1, 'funds\"': 1, 'gain': 1, 'gaining': 1, 'ghetto': 1, 'give': 1, 'given': 1, 'go': 1, \"god's\": 1, 'gradualism': 1, 'granted': 1, 'greatest': 1, 'guaranteed': 1, 'guilty': 1, 'had': 1, 'hallowed': 1, 'happiness\"': 1, 'happy': 1, 'hatred': 1, 'he': 1, 'heavy': 1, 'heights': 1, 'heir': 1, 'her': 1, 'high': 1, 'highways': 1, 'himself': 1, 'honoring': 1, 'horrors': 1, 'hotels': 1, 'if': 1, 'independence': 1, 'inextricably': 1, 'insofar': 1, 'instead': 1, 'insufficient': 1, 'invigorating': 1, 'island': 1, 'join': 1, 'joyous': 1, 'land': 1, 'languished': 1, 'larger': 1, 'lead': 1, 'leads': 1, 'legitimate': 1, 'let': 1, 'liberty': 1, 'life': 1, 'lift': 1, 'light': 1, 'lives': 1, 'lodging': 1, 'lonely': 1, 'luxury': 1, 'magnificent': 1, 'majestic': 1, 'manacles': 1, 'many': 1, 'march': 1, 'marked': 1, 'marvelous': 1, 'material': 1, 'meeting': 1, 'midst': 1, 'mighty': 1, 'militancy': 1, 'millions': 1, 'mississippi': 1, 'mobility': 1, 'moment': 1, 'momentous': 1, 'motels': 1, 'my': 1, \"nation's\": 1, 'needed': 1, 'neither': 1, 'night': 1, 'nineteen': 1, 'nor': 1, 'nothing': 1, 'obligation': 1, 'obvious': 1, 'ocean': 1, 'only\"**': 1, 'opportunity': 1, 'or': 1, 'overlook': 1, 'own': 1, 'palace': 1, 'pass': 1, 'path': 1, 'place': 1, 'plane': 1, 'pledge': 1, 'police': 1, 'poverty': 1, 'presence': 1, 'process': 1, 'proclamation': 1, 'promise': 1, 'promises': 1, 'prosperity': 1, 'protest': 1, 'pursuit': 1, 'quicksands': 1, 'real': 1, 'reality': 1, 'remind': 1, 'republic': 1, 'rest': 1, 'returns': 1, 'revolt': 1, 'riches': 1, 'righteousness': 1, 'rightful': 1, 'rights\"': 1, 'robbed': 1, 'rock': 1, 'rolls': 1, 'rude': 1, 'sacred': 1, 'sadly': 1, 'satisfied?\"': 1, 'satisfy': 1, 'say': 1, 'score': 1, 'seared': 1, 'security': 1, 'seek': 1, 'self-hood': 1, 'sense': 1, 'shadow': 1, 'shake': 1, 'shall': 1, 'shameful': 1, 'signed': 1, 'signing': 1, 'signs': 1, 'sixty-three': 1, 'slaves': 1, 'smaller': 1, 'society': 1, 'solid': 1, 'something': 1, 'soul': 1, 'spot': 1, 'stating': 1, 'steam': 1, 'stream\"1': 1, 'stripped': 1, 'struggle': 1, 'summer': 1, 'sunlit': 1, 'sweltering': 1, 'symbolic': 1, 'take': 1, 'thirst': 1, 'threshold': 1, 'tied': 1, 'tranquility': 1, 'tranquilizing': 1, 'travel': 1, 'turn': 1, 'unspeakable': 1, 'up': 1, 'upon': 1, 'usual': 1, 'valley': 1, 'vast': 1, 'vaults': 1, 'victim': 1, 'violence': 1, 'warm': 1, 'waters': 1, 'well': 1, 'were': 1, 'what': 1, 'when': 1, 'whirlwinds': 1, 'whites': 1, 'whose': 1, 'withering': 1, 'words': 1, 'wrongful': 1, 'wrote': 1, 'yes': 1, 'york': 1, 'again': 2, 'back': 2, 'believe': 2, 'came': 2, 'cash': 2, 'children': 2, 'destiny': 2, 'dignity': 2, 'down': 2, 'end': 2, 'force': 2, 'here': 2, 'his': 2, 'history': 2, 'hope': 2, 'i': 2, 'injustice': 2, 'into': 2, 'like': 2, \"negro's\": 2, 'new': 2, 'off': 2, 'physical': 2, 'promissory': 2, 'racial': 2, 'realize': 2, 'refuse': 2, 'rights': 2, 'rise': 2, 'segregation': 2, 'so': 2, 'stand': 2, 'they': 2, 'those': 2, 'urgency': 2, 'vote': 2, 'walk': 2, 'was': 2, 'would': 2, 'you': 2, 'all': 3, 'american': 3, 'an': 3, 'can': 3, 'great': 3, 'it': 3, 'make': 3, 'men': 3, 'never': 3, 'no': 3, 'note': 3, 'people': 3, 'still': 3, 'us': 3, \"we've\": 3, 'white': 3, 'america': 4, 'but': 4, 'by': 4, 'from': 4, 'have': 4, 'hundred': 4, 'later': 4, 'on': 4, 'until': 4, 'who': 4, 'with': 4, 'check': 5, 'has': 5, 'one': 5, 'there': 5, 'time': 5, 'today': 5, 'which': 5, 'years': 5, 'are': 6, 'cannot': 6, 'for': 6, 'freedom': 6, 'justice': 6, 'long': 6, 'nation': 6, 'now': 6, 'their': 6, 'come': 7, 'must': 7, 'satisfied': 7, 'not': 9, 'this': 9, 'will': 9, 'that': 10, 'be': 12, 'negro': 12, 'our': 14, 'in': 16, 'is': 18, 'as': 19, 'we': 19, 'a': 22, 'and': 22, 'to': 35, 'of': 56, 'the': 66}\n"
          ]
        }
      ]
    }
  ]
}